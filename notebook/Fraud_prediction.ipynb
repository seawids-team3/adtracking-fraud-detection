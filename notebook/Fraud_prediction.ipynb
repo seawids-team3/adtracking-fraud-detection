{
 "cells": [
  {
   "cell_type": "code",
   "execution_count": null,
   "metadata": {},
   "outputs": [],
   "source": [
    "import numpy as np\n",
    "import pandas as pd\n",
    "import os\n",
    "\n",
    "import seaborn as sns\n",
    "import matplotlib.pyplot as plt\n",
    "\n",
    "\n",
    "import sklearn\n",
    "import scipy.sparse as sparse\n",
    "from sklearn import mixture\n",
    "import itertools\n",
    "from scipy import linalg\n",
    "import matplotlib as mpl\n"
   ]
  },
  {
   "cell_type": "markdown",
   "metadata": {},
   "source": [
    "import zipfile\n",
    "zip_ref = zipfile.ZipFile('train.csv.zip', 'r')\n",
    "zip_ref.extractall('../Fraud Detection/adtracking-fraud-detection-master/')\n",
    "zip_ref.close()"
   ]
  },
  {
   "cell_type": "code",
   "execution_count": null,
   "metadata": {},
   "outputs": [],
   "source": [
    "data_set=pd.read_csv('../Fraud Detection/train_sample.csv')"
   ]
  },
  {
   "cell_type": "code",
   "execution_count": null,
   "metadata": {},
   "outputs": [],
   "source": [
    "data_set.head()"
   ]
  },
  {
   "cell_type": "code",
   "execution_count": null,
   "metadata": {},
   "outputs": [],
   "source": [
    "data_set.info()"
   ]
  },
  {
   "cell_type": "code",
   "execution_count": null,
   "metadata": {},
   "outputs": [],
   "source": [
    "#Counting how many class 1 \n",
    "data_set.attributed_time.count()"
   ]
  },
  {
   "cell_type": "code",
   "execution_count": null,
   "metadata": {},
   "outputs": [],
   "source": [
    "data_set.count()"
   ]
  },
  {
   "cell_type": "code",
   "execution_count": null,
   "metadata": {},
   "outputs": [],
   "source": [
    "print(data_set.nunique(),'\\n\\n')\n",
    "unique_val=data_set.iloc[:,[1,2,3,4,6,7]].nunique()\n",
    "print(list(unique_val.keys()))\n",
    "print(list(unique_val.values))"
   ]
  },
  {
   "cell_type": "code",
   "execution_count": null,
   "metadata": {},
   "outputs": [],
   "source": [
    "len(data_set)-data_set.click_time.nunique()"
   ]
  },
  {
   "cell_type": "code",
   "execution_count": null,
   "metadata": {},
   "outputs": [],
   "source": [
    "\n",
    "xtick_label=list(unique_val.keys())\n",
    "sns.set(font_scale=2)\n",
    "fig=plt.figure(figsize=(15,10))\n",
    "ax = sns.barplot(x=xtick_label,y=list(unique_val.values))\n",
    "plt.title('The number of unique values of features')"
   ]
  },
  {
   "cell_type": "code",
   "execution_count": null,
   "metadata": {},
   "outputs": [],
   "source": [
    "data_set.app.unique()"
   ]
  },
  {
   "cell_type": "markdown",
   "metadata": {},
   "source": []
  },
  {
   "cell_type": "code",
   "execution_count": null,
   "metadata": {},
   "outputs": [],
   "source": [
    "sns.set(font_scale=1.2)\n",
    "fig, axes = plt.subplots(2,2,figsize=(15,8))\n",
    "sns.distplot(data_set.app,label='App',kde=False,ax=axes[0, 0],color='r')\n",
    "axes[0, 0].set_title('Histogram of Apps')\n",
    "\n",
    "sns.distplot(data_set.device,label='Device',kde=False,ax=axes[0, 1],color='b')\n",
    "axes[0, 1].set_title('Histogram of devices')\n",
    "\n",
    "sns.distplot(data_set.os,label='OS',kde=False,ax=axes[1, 0],color='g')\n",
    "axes[1, 0].set_title('Histogram of OS\\'s')\n",
    "\n",
    "sns.distplot(data_set.channel,label='Channel',kde=False,ax=axes[1, 1],color='y')\n",
    "axes[1, 1].set_title('Histogram of channels')\n",
    "\n",
    "\n",
    "plt.subplots_adjust(top=0.92, bottom=0.08, left=0.10, right=0.95, hspace=0.45,\n",
    "                    wspace=0.25)"
   ]
  },
  {
   "cell_type": "code",
   "execution_count": null,
   "metadata": {},
   "outputs": [],
   "source": [
    "#data_set.device.value_counts().sort_values()"
   ]
  },
  {
   "cell_type": "code",
   "execution_count": null,
   "metadata": {
    "scrolled": true
   },
   "outputs": [],
   "source": [
    "#data_set.app.value_counts().sort_values()"
   ]
  },
  {
   "cell_type": "code",
   "execution_count": null,
   "metadata": {},
   "outputs": [],
   "source": [
    "#data_set.os.value_counts().sort_values()"
   ]
  },
  {
   "cell_type": "markdown",
   "metadata": {},
   "source": [
    "## Converting click_time to datetime type"
   ]
  },
  {
   "cell_type": "code",
   "execution_count": null,
   "metadata": {},
   "outputs": [],
   "source": [
    "\n",
    "from datetime import datetime,timedelta\n",
    "data_set.attributed_time=pd.to_datetime(data_set.attributed_time)\n",
    "data_set.click_time=pd.to_datetime(data_set.click_time)\n",
    "data_set['time_difference']=data_set.attributed_time-data_set.click_time"
   ]
  },
  {
   "cell_type": "code",
   "execution_count": null,
   "metadata": {},
   "outputs": [],
   "source": [
    "data_set['hour_click']= data_set.click_time.map(lambda x: round((x-data_set.click_time.min())/timedelta(hours=1),4))\n",
    "data_set['click_day']= data_set.click_time.map(lambda x: x.day)\n",
    "data_set['click_hour']= data_set.click_time.map(lambda x: x.hour)\n",
    "data_set['click_min']= data_set.click_time.map(lambda x: x.minute)\n",
    "data_set['click_sec']= data_set.click_time.map(lambda x: x.second)\n",
    "\n",
    "data_set['hour_attributed']= data_set.attributed_time.map(lambda x: round((x-data_set.attributed_time.min())/timedelta(hours=1),4))\n",
    "data_set['hour_difference']= data_set.time_difference.map(lambda x: round(x/timedelta(hours=1),4))\n"
   ]
  },
  {
   "cell_type": "code",
   "execution_count": null,
   "metadata": {},
   "outputs": [],
   "source": [
    "data_set.head()"
   ]
  },
  {
   "cell_type": "markdown",
   "metadata": {},
   "source": [
    "## Missing Values"
   ]
  },
  {
   "cell_type": "code",
   "execution_count": null,
   "metadata": {},
   "outputs": [],
   "source": [
    "data_set.keys()\n",
    "\n"
   ]
  },
  {
   "cell_type": "code",
   "execution_count": null,
   "metadata": {},
   "outputs": [],
   "source": [
    "data_set.loc[:,['time_difference','click_time', 'attributed_time']]=data_set.loc[:,['time_difference','click_time', 'attributed_time']].replace(np.nan,pd.to_datetime(0))\n"
   ]
  },
  {
   "cell_type": "code",
   "execution_count": null,
   "metadata": {
    "scrolled": true
   },
   "outputs": [],
   "source": [
    "data_set=data_set.replace(np.nan,-1)\n",
    "data_set.head()\n"
   ]
  },
  {
   "cell_type": "markdown",
   "metadata": {},
   "source": [
    "## Extracting More Features"
   ]
  },
  {
   "cell_type": "code",
   "execution_count": null,
   "metadata": {},
   "outputs": [],
   "source": [
    "def counting_features(d,name,f):\n",
    "    d=d.join(pd.DataFrame({name:d.set_index(f).groupby(f).size()}),on=f)\n",
    "    return d"
   ]
  },
  {
   "cell_type": "code",
   "execution_count": null,
   "metadata": {},
   "outputs": [],
   "source": [
    "#feature:ip\n",
    "data_set=counting_features(data_set,'ip_count',['ip'])\n",
    "data_set=counting_features(data_set,'ip_app_count',['ip','app'])\n",
    "data_set=counting_features(data_set,'ip_device_count',['ip','device'])\n",
    "data_set=counting_features(data_set,'ip_channel_count',['ip','channel'])\n",
    "data_set=counting_features(data_set,'ip_os_count',['ip','os'])\n",
    "#feature: device\n",
    "data_set=counting_features(data_set,'device_count',['device'])\n",
    "data_set=counting_features(data_set,'device_app_count',['device','app'])\n",
    "data_set=counting_features(data_set,'device_channel_count',['device','channel'])\n",
    "data_set=counting_features(data_set,'device_os_count',['device','os'])\n",
    "#feature: os\n",
    "data_set=counting_features(data_set,'os_count',['os'])\n",
    "data_set=counting_features(data_set,'os_app_count',['app','os'])\n",
    "data_set=counting_features(data_set,'os_channel_count',['os','channel'])\n",
    "#feature: Channel\n",
    "data_set=counting_features(data_set,'channel_count',['channel'])\n",
    "data_set=counting_features(data_set,'channel_app_count',['app','channel'])\n",
    "#feature: click_time\n",
    "data_set=counting_features(data_set,'click_time_count',['click_time'])\n",
    "data_set=counting_features(data_set,'ct_ip_count',['click_time','ip'])\n",
    "data_set=counting_features(data_set,'ct_app_count',['click_time','app'])\n",
    "data_set=counting_features(data_set,'ct_device_count',['click_time','device'])\n",
    "data_set=counting_features(data_set,'ct_os_count',['click_time','os'])\n",
    "data_set=counting_features(data_set,'ct_channel_count',['click_time','channel'])\n",
    "\n",
    "#feature: time_difference\n",
    "data_set=counting_features(data_set,'dt_count',['hour_difference'])\n",
    "data_set=counting_features(data_set,'dt_ip_count',['hour_difference','ip'])\n",
    "data_set=counting_features(data_set,'dt_app_count',['hour_difference','app'])\n",
    "data_set=counting_features(data_set,'dt_device_count',['hour_difference','device'])\n",
    "data_set=counting_features(data_set,'dt_os_count',['hour_difference','os'])\n",
    "data_set=counting_features(data_set,'dt_channel_count',['hour_difference','channel'])\n",
    "\n",
    "data_set.head()"
   ]
  },
  {
   "cell_type": "markdown",
   "metadata": {},
   "source": [
    "# Clustering clicks"
   ]
  },
  {
   "cell_type": "code",
   "execution_count": null,
   "metadata": {},
   "outputs": [],
   "source": [
    "X_cluster=data_set.loc[:,['ip_count', 'ip_app_count', 'ip_device_count',\n",
    "       'ip_channel_count', 'ip_os_count', 'device_count', 'device_app_count',\n",
    "       'device_channel_count', 'device_os_count', 'os_count', 'os_app_count',\n",
    "       'os_channel_count', 'channel_count', 'channel_app_count',\n",
    "       'click_time_count', 'ct_ip_count', 'ct_app_count', 'ct_device_count',\n",
    "       'ct_os_count', 'ct_channel_count','hour_click','is_attributed']]"
   ]
  },
  {
   "cell_type": "code",
   "execution_count": null,
   "metadata": {},
   "outputs": [],
   "source": [
    "from sklearn.preprocessing import StandardScaler\n",
    "\n",
    "scaler = StandardScaler()\n",
    "X_cluster=scaler.fit_transform(X_cluster)"
   ]
  },
  {
   "cell_type": "code",
   "execution_count": null,
   "metadata": {},
   "outputs": [],
   "source": [
    "### GMM Clustering\n",
    "#To find the best component for GMM culstering can be assessed out by a code silimar to doing detemining hyper parameters. This code is from [Gaussian Mixture Model Selection](http://scikit-learn.org/stable/auto_examples/mixture/plot_gmm_selection.html#sphx-glr-auto-examples-mixture-plot-gmm-selection-py) website. Based on the comparision given in [Clustering](http://scikit-learn.org/stable/modules/clustering.html), GMM method has chosen for having less expences. [GMM method](http://scikit-learn.org/stable/modules/mixture.html#mixture) is the general form of Kmean. \n",
    "\n",
    "\n",
    "\n",
    "\n",
    "print(__doc__)\n",
    "\n",
    "\n",
    "# Generate random sample, two components\n",
    "\n",
    "lowest_bic = np.infty\n",
    "bic = []\n",
    "n_components_range = range(1, 10)\n",
    "cv_types = ['spherical', 'tied', 'diag', 'full']\n",
    "for cv_type in cv_types:\n",
    "    for n_components in n_components_range:\n",
    "        # Fit a Gaussian mixture with EM\n",
    "        gmm = mixture.GaussianMixture(n_components=n_components,\n",
    "                                      covariance_type=cv_type)\n",
    "        gmm.fit(X_cluster)\n",
    "        bic.append(gmm.bic(X_cluster))\n",
    "        if bic[-1] < lowest_bic:\n",
    "            lowest_bic = bic[-1]\n",
    "            best_gmm = gmm\n",
    "\n",
    "bic = np.array(bic)\n",
    "color_iter = itertools.cycle(['navy', 'turquoise', 'cornflowerblue',\n",
    "                              'darkorange'])\n",
    "clf = best_gmm\n",
    "bars = []\n",
    "\n",
    "# Plot the BIC scores\n",
    "plt.figure(figsize=(8, 6))\n",
    "spl = plt.subplot(2, 1, 1)\n",
    "for i, (cv_type, color) in enumerate(zip(cv_types, color_iter)):\n",
    "    xpos = np.array(n_components_range) + .2 * (i - 2)\n",
    "    bars.append(plt.bar(xpos, bic[i * len(n_components_range):\n",
    "                                  (i + 1) * len(n_components_range)],\n",
    "                        width=.2, color=color))\n",
    "plt.xticks(n_components_range)\n",
    "plt.ylim([bic.min() * 1.01 - .01 * bic.max(), bic.max()])\n",
    "plt.title('BIC score per model')\n",
    "xpos = np.mod(bic.argmin(), len(n_components_range)) + .65 +\\\n",
    "    .2 * np.floor(bic.argmin() / len(n_components_range))\n",
    "plt.text(xpos, bic.min() * 0.97 + .03 * bic.max(), '*', fontsize=14)\n",
    "spl.set_xlabel('Number of components')\n",
    "spl.legend([b[0] for b in bars], cv_types)"
   ]
  },
  {
   "cell_type": "code",
   "execution_count": null,
   "metadata": {},
   "outputs": [],
   "source": [
    "fraud_class=pd.DataFrame({'fraud_class':clf.predict(X_cluster)})\n",
    "np.sort(fraud_class.loc[:,'fraud_class'].unique())"
   ]
  },
  {
   "cell_type": "code",
   "execution_count": null,
   "metadata": {},
   "outputs": [],
   "source": [
    "\n",
    "data_set['fraud_class']=fraud_class\n",
    "data_set.head(2)"
   ]
  },
  {
   "cell_type": "code",
   "execution_count": null,
   "metadata": {},
   "outputs": [],
   "source": [
    "data_set.groupby('fraud_class').count()"
   ]
  },
  {
   "cell_type": "code",
   "execution_count": null,
   "metadata": {},
   "outputs": [],
   "source": [
    "sns.distplot(data_set.device,color='seagreen')"
   ]
  },
  {
   "cell_type": "code",
   "execution_count": null,
   "metadata": {},
   "outputs": [],
   "source": [
    "[str(x) for x in np.sort(fraud_class.loc[:,'fraud_class'].unique())]"
   ]
  },
  {
   "cell_type": "code",
   "execution_count": null,
   "metadata": {},
   "outputs": [],
   "source": [
    "sns.set(font_scale=1.5)\n",
    "fig,axes=plt.subplots(3,2,figsize=(15,10))\n",
    "sns.distplot(data_set.ip[data_set.fraud_class==0],color='skyblue',hist=False,ax=axes[0, 0])\n",
    "sns.distplot(data_set.ip[data_set.fraud_class==1],color='olive',hist=False,ax=axes[0, 0])\n",
    "sns.distplot(data_set.ip[data_set.fraud_class==2],color='gold',hist=False,ax=axes[0, 0])\n",
    "sns.distplot(data_set.ip[data_set.fraud_class==3],color='teal',hist=False,ax=axes[0, 0])\n",
    "sns.distplot(data_set.ip[data_set.fraud_class==4],color='coral',hist=False,ax=axes[0, 0])\n",
    "sns.distplot(data_set.ip[data_set.fraud_class==5],color='tomato',hist=False,ax=axes[0, 0])\n",
    "sns.distplot(data_set.ip[data_set.fraud_class==6],color='seagreen',hist=False,ax=axes[0, 0])\n",
    "sns.distplot(data_set.ip[data_set.fraud_class==7],color='darkcyan',hist=False,ax=axes[0, 0])\n",
    "sns.distplot(data_set.ip[data_set.fraud_class==8],color='maroon',hist=False,ax=axes[0, 0])\n",
    "axes[0,0].set_title('The distribution of IPs in different classes')\n",
    "\n",
    "sns.distplot(data_set.app[data_set.fraud_class==0],color='skyblue',hist=False,ax=axes[0, 1])\n",
    "sns.distplot(data_set.app[data_set.fraud_class==1],color='olive',hist=False,ax=axes[0, 1])\n",
    "sns.distplot(data_set.app[data_set.fraud_class==2],color='gold',hist=False,ax=axes[0, 1])\n",
    "sns.distplot(data_set.app[data_set.fraud_class==3],color='teal',hist=False,ax=axes[0, 1])\n",
    "sns.distplot(data_set.app[data_set.fraud_class==4],color='coral',hist=False,ax=axes[0, 1])\n",
    "sns.distplot(data_set.app[data_set.fraud_class==5],color='tomato',hist=False,ax=axes[0, 1])\n",
    "sns.distplot(data_set.app[data_set.fraud_class==6],color='seagreen',hist=False,ax=axes[0, 1])\n",
    "sns.distplot(data_set.app[data_set.fraud_class==7],color='darkcyan',hist=False,ax=axes[0, 1])\n",
    "sns.distplot(data_set.app[data_set.fraud_class==8],color='maroon',hist=False,ax=axes[0, 1])\n",
    "axes[0,1].set_title('The distribution of APPs in different classes')\n",
    "\n",
    "\n",
    "sns.distplot(data_set.device[data_set.fraud_class==0],color='skyblue',hist=False,ax=axes[1,0])\n",
    "sns.distplot(data_set.device[data_set.fraud_class==1],color='olive',hist=False,ax=axes[1,0])\n",
    "sns.distplot(data_set.device[data_set.fraud_class==2],color='gold',hist=False,ax=axes[1,0])\n",
    "sns.distplot(data_set.device[data_set.fraud_class==3],color='teal',hist=False,ax=axes[1,0])\n",
    "sns.distplot(data_set.device[data_set.fraud_class==4],color='coral',hist=False,ax=axes[1,0])\n",
    "sns.distplot(data_set.device[data_set.fraud_class==5],color='tomato',hist=False,ax=axes[1,0])\n",
    "sns.distplot(data_set.device[data_set.fraud_class==6],color='seagreen',hist=False,ax=axes[1,0])\n",
    "sns.distplot(data_set.device[data_set.fraud_class==7],color='darkcyan',hist=False,ax=axes[1,0])\n",
    "sns.distplot(data_set.device[data_set.fraud_class==8],color='maroon',hist=False,ax=axes[1,0])\n",
    "axes[1,0].set_title('The distribution of devices in different classes')\n",
    "\n",
    "\n",
    "sns.distplot(data_set.os[data_set.fraud_class==0],color='skyblue',hist=False,ax=axes[1,1])\n",
    "sns.distplot(data_set.os[data_set.fraud_class==1],color='olive',hist=False,ax=axes[1,1])\n",
    "sns.distplot(data_set.os[data_set.fraud_class==2],color='gold',hist=False,ax=axes[1,1])\n",
    "sns.distplot(data_set.os[data_set.fraud_class==3],color='teal',hist=False,ax=axes[1,1])\n",
    "sns.distplot(data_set.os[data_set.fraud_class==4],color='coral',hist=False,ax=axes[1,1])\n",
    "sns.distplot(data_set.os[data_set.fraud_class==5],color='tomato',hist=False,ax=axes[1,1])\n",
    "sns.distplot(data_set.os[data_set.fraud_class==6],color='seagreen',hist=False,ax=axes[1,1])\n",
    "sns.distplot(data_set.os[data_set.fraud_class==7],color='darkcyan',hist=False,ax=axes[1,1])\n",
    "sns.distplot(data_set.os[data_set.fraud_class==8],color='maroon',hist=False,ax=axes[1,1])\n",
    "axes[1,1].set_title('The distribution of OS\\' in different classes')\n",
    "\n",
    "sns.distplot(data_set.hour_click[data_set.fraud_class==0],color='skyblue',hist=False,ax=axes[2, 0])\n",
    "sns.distplot(data_set.hour_click[data_set.fraud_class==1],color='olive',hist=False,ax=axes[2, 0])\n",
    "sns.distplot(data_set.hour_click[data_set.fraud_class==2],color='gold',hist=False,ax=axes[2, 0])\n",
    "sns.distplot(data_set.hour_click[data_set.fraud_class==3],color='teal',hist=False,ax=axes[2, 0])\n",
    "sns.distplot(data_set.hour_click[data_set.fraud_class==4],color='coral',hist=False,ax=axes[2, 0])\n",
    "sns.distplot(data_set.hour_click[data_set.fraud_class==5],color='tomato',hist=False,ax=axes[2, 0])\n",
    "sns.distplot(data_set.hour_click[data_set.fraud_class==6],color='seagreen',hist=False,ax=axes[2, 0])\n",
    "sns.distplot(data_set.hour_click[data_set.fraud_class==7],color='darkcyan',hist=False,ax=axes[2, 0])\n",
    "sns.distplot(data_set.hour_click[data_set.fraud_class==8],color='maroon',hist=False,ax=axes[2, 0])\n",
    "axes[2,0].set_title('The distribution of time difference in hour in different classes')\n",
    "axes[2,0].set_xlabel('Hour')\n",
    "\n",
    "\n",
    "plt.subplots_adjust(top=0.92, bottom=0.08, left=0.10, right=0.95, hspace=0.45,\n",
    "                    wspace=0.25)"
   ]
  },
  {
   "cell_type": "markdown",
   "metadata": {},
   "source": [
    "## Defining dependent and independent features"
   ]
  },
  {
   "cell_type": "code",
   "execution_count": null,
   "metadata": {},
   "outputs": [],
   "source": [
    "data_set.keys()"
   ]
  },
  {
   "cell_type": "code",
   "execution_count": 98,
   "metadata": {},
   "outputs": [],
   "source": [
    "categorical_features=['ip', 'app', 'device', 'os', 'channel','fraud_class']\n",
    "temporal_features=['click_time', 'attributed_time', 'time_difference']\n",
    "numerical_features= ['hour_click','hour_attributed',\n",
    "       'hour_difference', 'ip_count', 'ip_app_count', 'ip_device_count',\n",
    "       'ip_channel_count', 'ip_os_count', 'device_count', 'device_app_count',\n",
    "       'device_channel_count', 'device_os_count', 'os_count', 'os_app_count',\n",
    "       'os_channel_count', 'channel_count', 'channel_app_count',\n",
    "       'click_time_count', 'ct_ip_count', 'ct_app_count', 'ct_device_count',\n",
    "       'ct_os_count', 'ct_channel_count',\n",
    "       'dt_ip_count', 'dt_app_count', 'dt_device_count', 'dt_os_count',\n",
    "       'dt_channel_count']\n"
   ]
  },
  {
   "cell_type": "code",
   "execution_count": 99,
   "metadata": {},
   "outputs": [
    {
     "data": {
      "text/html": [
       "<div>\n",
       "<style scoped>\n",
       "    .dataframe tbody tr th:only-of-type {\n",
       "        vertical-align: middle;\n",
       "    }\n",
       "\n",
       "    .dataframe tbody tr th {\n",
       "        vertical-align: top;\n",
       "    }\n",
       "\n",
       "    .dataframe thead th {\n",
       "        text-align: right;\n",
       "    }\n",
       "</style>\n",
       "<table border=\"1\" class=\"dataframe\">\n",
       "  <thead>\n",
       "    <tr style=\"text-align: right;\">\n",
       "      <th></th>\n",
       "      <th>hour_click</th>\n",
       "      <th>hour_attributed</th>\n",
       "      <th>hour_difference</th>\n",
       "      <th>ip_count</th>\n",
       "      <th>ip_app_count</th>\n",
       "      <th>ip_device_count</th>\n",
       "      <th>ip_channel_count</th>\n",
       "      <th>ip_os_count</th>\n",
       "      <th>device_count</th>\n",
       "      <th>device_app_count</th>\n",
       "      <th>...</th>\n",
       "      <th>ct_ip_count</th>\n",
       "      <th>ct_app_count</th>\n",
       "      <th>ct_device_count</th>\n",
       "      <th>ct_os_count</th>\n",
       "      <th>ct_channel_count</th>\n",
       "      <th>dt_ip_count</th>\n",
       "      <th>dt_app_count</th>\n",
       "      <th>dt_device_count</th>\n",
       "      <th>dt_os_count</th>\n",
       "      <th>dt_channel_count</th>\n",
       "    </tr>\n",
       "  </thead>\n",
       "  <tbody>\n",
       "    <tr>\n",
       "      <th>0</th>\n",
       "      <td>17.5106</td>\n",
       "      <td>-1.0</td>\n",
       "      <td>-1.0</td>\n",
       "      <td>8</td>\n",
       "      <td>3</td>\n",
       "      <td>8</td>\n",
       "      <td>1</td>\n",
       "      <td>3</td>\n",
       "      <td>94338</td>\n",
       "      <td>12447</td>\n",
       "      <td>...</td>\n",
       "      <td>1</td>\n",
       "      <td>1</td>\n",
       "      <td>1</td>\n",
       "      <td>1</td>\n",
       "      <td>1</td>\n",
       "      <td>8</td>\n",
       "      <td>13197</td>\n",
       "      <td>94192</td>\n",
       "      <td>21198</td>\n",
       "      <td>238</td>\n",
       "    </tr>\n",
       "    <tr>\n",
       "      <th>1</th>\n",
       "      <td>21.6742</td>\n",
       "      <td>-1.0</td>\n",
       "      <td>-1.0</td>\n",
       "      <td>149</td>\n",
       "      <td>4</td>\n",
       "      <td>141</td>\n",
       "      <td>7</td>\n",
       "      <td>8</td>\n",
       "      <td>94338</td>\n",
       "      <td>753</td>\n",
       "      <td>...</td>\n",
       "      <td>1</td>\n",
       "      <td>1</td>\n",
       "      <td>1</td>\n",
       "      <td>1</td>\n",
       "      <td>1</td>\n",
       "      <td>149</td>\n",
       "      <td>804</td>\n",
       "      <td>94192</td>\n",
       "      <td>5226</td>\n",
       "      <td>3130</td>\n",
       "    </tr>\n",
       "    <tr>\n",
       "      <th>2</th>\n",
       "      <td>26.0900</td>\n",
       "      <td>-1.0</td>\n",
       "      <td>-1.0</td>\n",
       "      <td>2</td>\n",
       "      <td>1</td>\n",
       "      <td>2</td>\n",
       "      <td>1</td>\n",
       "      <td>2</td>\n",
       "      <td>94338</td>\n",
       "      <td>12447</td>\n",
       "      <td>...</td>\n",
       "      <td>1</td>\n",
       "      <td>1</td>\n",
       "      <td>2</td>\n",
       "      <td>1</td>\n",
       "      <td>1</td>\n",
       "      <td>2</td>\n",
       "      <td>13197</td>\n",
       "      <td>94192</td>\n",
       "      <td>23829</td>\n",
       "      <td>635</td>\n",
       "    </tr>\n",
       "    <tr>\n",
       "      <th>3</th>\n",
       "      <td>12.9689</td>\n",
       "      <td>-1.0</td>\n",
       "      <td>-1.0</td>\n",
       "      <td>3</td>\n",
       "      <td>1</td>\n",
       "      <td>3</td>\n",
       "      <td>1</td>\n",
       "      <td>1</td>\n",
       "      <td>94338</td>\n",
       "      <td>2355</td>\n",
       "      <td>...</td>\n",
       "      <td>1</td>\n",
       "      <td>1</td>\n",
       "      <td>2</td>\n",
       "      <td>1</td>\n",
       "      <td>1</td>\n",
       "      <td>3</td>\n",
       "      <td>2422</td>\n",
       "      <td>94192</td>\n",
       "      <td>21198</td>\n",
       "      <td>3960</td>\n",
       "    </tr>\n",
       "    <tr>\n",
       "      <th>4</th>\n",
       "      <td>65.0025</td>\n",
       "      <td>-1.0</td>\n",
       "      <td>-1.0</td>\n",
       "      <td>4</td>\n",
       "      <td>2</td>\n",
       "      <td>4</td>\n",
       "      <td>1</td>\n",
       "      <td>1</td>\n",
       "      <td>94338</td>\n",
       "      <td>12447</td>\n",
       "      <td>...</td>\n",
       "      <td>1</td>\n",
       "      <td>1</td>\n",
       "      <td>1</td>\n",
       "      <td>1</td>\n",
       "      <td>1</td>\n",
       "      <td>4</td>\n",
       "      <td>13197</td>\n",
       "      <td>94192</td>\n",
       "      <td>1184</td>\n",
       "      <td>2936</td>\n",
       "    </tr>\n",
       "  </tbody>\n",
       "</table>\n",
       "<p>5 rows × 28 columns</p>\n",
       "</div>"
      ],
      "text/plain": [
       "   hour_click  hour_attributed  hour_difference  ip_count  ip_app_count  \\\n",
       "0     17.5106             -1.0             -1.0         8             3   \n",
       "1     21.6742             -1.0             -1.0       149             4   \n",
       "2     26.0900             -1.0             -1.0         2             1   \n",
       "3     12.9689             -1.0             -1.0         3             1   \n",
       "4     65.0025             -1.0             -1.0         4             2   \n",
       "\n",
       "   ip_device_count  ip_channel_count  ip_os_count  device_count  \\\n",
       "0                8                 1            3         94338   \n",
       "1              141                 7            8         94338   \n",
       "2                2                 1            2         94338   \n",
       "3                3                 1            1         94338   \n",
       "4                4                 1            1         94338   \n",
       "\n",
       "   device_app_count  ...  ct_ip_count  ct_app_count  ct_device_count  \\\n",
       "0             12447  ...            1             1                1   \n",
       "1               753  ...            1             1                1   \n",
       "2             12447  ...            1             1                2   \n",
       "3              2355  ...            1             1                2   \n",
       "4             12447  ...            1             1                1   \n",
       "\n",
       "   ct_os_count  ct_channel_count  dt_ip_count  dt_app_count  dt_device_count  \\\n",
       "0            1                 1            8         13197            94192   \n",
       "1            1                 1          149           804            94192   \n",
       "2            1                 1            2         13197            94192   \n",
       "3            1                 1            3          2422            94192   \n",
       "4            1                 1            4         13197            94192   \n",
       "\n",
       "   dt_os_count  dt_channel_count  \n",
       "0        21198               238  \n",
       "1         5226              3130  \n",
       "2        23829               635  \n",
       "3        21198              3960  \n",
       "4         1184              2936  \n",
       "\n",
       "[5 rows x 28 columns]"
      ]
     },
     "execution_count": 99,
     "metadata": {},
     "output_type": "execute_result"
    }
   ],
   "source": [
    "X=data_set.loc[:,numerical_features]\n",
    "y=data_set.is_attributed\n",
    "X.head()\n"
   ]
  },
  {
   "cell_type": "markdown",
   "metadata": {},
   "source": [
    "## Splitting data into validation and training sets"
   ]
  },
  {
   "cell_type": "code",
   "execution_count": 100,
   "metadata": {},
   "outputs": [],
   "source": [
    "from sklearn.model_selection import train_test_split\n",
    "\n",
    "X_train,X_validation,y_train,y_validation=train_test_split(X,y,test_size=0.15, random_state=42)"
   ]
  },
  {
   "cell_type": "code",
   "execution_count": 101,
   "metadata": {},
   "outputs": [
    {
     "name": "stdout",
     "output_type": "stream",
     "text": [
      "2380000 420000\n"
     ]
    }
   ],
   "source": [
    "print(np.size(X_train),np.size(X_validation))"
   ]
  },
  {
   "cell_type": "code",
   "execution_count": 102,
   "metadata": {},
   "outputs": [
    {
     "data": {
      "text/html": [
       "<div>\n",
       "<style scoped>\n",
       "    .dataframe tbody tr th:only-of-type {\n",
       "        vertical-align: middle;\n",
       "    }\n",
       "\n",
       "    .dataframe tbody tr th {\n",
       "        vertical-align: top;\n",
       "    }\n",
       "\n",
       "    .dataframe thead th {\n",
       "        text-align: right;\n",
       "    }\n",
       "</style>\n",
       "<table border=\"1\" class=\"dataframe\">\n",
       "  <thead>\n",
       "    <tr style=\"text-align: right;\">\n",
       "      <th></th>\n",
       "      <th>hour_click</th>\n",
       "      <th>hour_attributed</th>\n",
       "      <th>hour_difference</th>\n",
       "      <th>ip_count</th>\n",
       "      <th>ip_app_count</th>\n",
       "      <th>ip_device_count</th>\n",
       "      <th>ip_channel_count</th>\n",
       "      <th>ip_os_count</th>\n",
       "      <th>device_count</th>\n",
       "      <th>device_app_count</th>\n",
       "      <th>...</th>\n",
       "      <th>ct_ip_count</th>\n",
       "      <th>ct_app_count</th>\n",
       "      <th>ct_device_count</th>\n",
       "      <th>ct_os_count</th>\n",
       "      <th>ct_channel_count</th>\n",
       "      <th>dt_ip_count</th>\n",
       "      <th>dt_app_count</th>\n",
       "      <th>dt_device_count</th>\n",
       "      <th>dt_os_count</th>\n",
       "      <th>dt_channel_count</th>\n",
       "    </tr>\n",
       "  </thead>\n",
       "  <tbody>\n",
       "    <tr>\n",
       "      <th>71584</th>\n",
       "      <td>12.5928</td>\n",
       "      <td>-1.0</td>\n",
       "      <td>-1.0</td>\n",
       "      <td>6</td>\n",
       "      <td>1</td>\n",
       "      <td>6</td>\n",
       "      <td>1</td>\n",
       "      <td>1</td>\n",
       "      <td>94338</td>\n",
       "      <td>8348</td>\n",
       "      <td>...</td>\n",
       "      <td>1</td>\n",
       "      <td>2</td>\n",
       "      <td>3</td>\n",
       "      <td>2</td>\n",
       "      <td>1</td>\n",
       "      <td>6</td>\n",
       "      <td>8984</td>\n",
       "      <td>94192</td>\n",
       "      <td>1348</td>\n",
       "      <td>1074</td>\n",
       "    </tr>\n",
       "    <tr>\n",
       "      <th>98962</th>\n",
       "      <td>42.4344</td>\n",
       "      <td>-1.0</td>\n",
       "      <td>-1.0</td>\n",
       "      <td>3</td>\n",
       "      <td>1</td>\n",
       "      <td>3</td>\n",
       "      <td>1</td>\n",
       "      <td>1</td>\n",
       "      <td>94338</td>\n",
       "      <td>12447</td>\n",
       "      <td>...</td>\n",
       "      <td>1</td>\n",
       "      <td>1</td>\n",
       "      <td>1</td>\n",
       "      <td>1</td>\n",
       "      <td>1</td>\n",
       "      <td>3</td>\n",
       "      <td>13197</td>\n",
       "      <td>94192</td>\n",
       "      <td>4826</td>\n",
       "      <td>3130</td>\n",
       "    </tr>\n",
       "    <tr>\n",
       "      <th>74509</th>\n",
       "      <td>58.3939</td>\n",
       "      <td>-1.0</td>\n",
       "      <td>-1.0</td>\n",
       "      <td>3</td>\n",
       "      <td>1</td>\n",
       "      <td>3</td>\n",
       "      <td>1</td>\n",
       "      <td>1</td>\n",
       "      <td>94338</td>\n",
       "      <td>17656</td>\n",
       "      <td>...</td>\n",
       "      <td>1</td>\n",
       "      <td>1</td>\n",
       "      <td>1</td>\n",
       "      <td>1</td>\n",
       "      <td>1</td>\n",
       "      <td>3</td>\n",
       "      <td>18275</td>\n",
       "      <td>94192</td>\n",
       "      <td>1310</td>\n",
       "      <td>8112</td>\n",
       "    </tr>\n",
       "    <tr>\n",
       "      <th>86798</th>\n",
       "      <td>19.4608</td>\n",
       "      <td>-1.0</td>\n",
       "      <td>-1.0</td>\n",
       "      <td>669</td>\n",
       "      <td>35</td>\n",
       "      <td>577</td>\n",
       "      <td>8</td>\n",
       "      <td>11</td>\n",
       "      <td>94338</td>\n",
       "      <td>5263</td>\n",
       "      <td>...</td>\n",
       "      <td>1</td>\n",
       "      <td>1</td>\n",
       "      <td>1</td>\n",
       "      <td>1</td>\n",
       "      <td>1</td>\n",
       "      <td>666</td>\n",
       "      <td>5359</td>\n",
       "      <td>94192</td>\n",
       "      <td>786</td>\n",
       "      <td>1468</td>\n",
       "    </tr>\n",
       "    <tr>\n",
       "      <th>54930</th>\n",
       "      <td>16.4792</td>\n",
       "      <td>-1.0</td>\n",
       "      <td>-1.0</td>\n",
       "      <td>2</td>\n",
       "      <td>1</td>\n",
       "      <td>2</td>\n",
       "      <td>1</td>\n",
       "      <td>2</td>\n",
       "      <td>94338</td>\n",
       "      <td>1256</td>\n",
       "      <td>...</td>\n",
       "      <td>1</td>\n",
       "      <td>1</td>\n",
       "      <td>2</td>\n",
       "      <td>1</td>\n",
       "      <td>1</td>\n",
       "      <td>2</td>\n",
       "      <td>1303</td>\n",
       "      <td>94192</td>\n",
       "      <td>21198</td>\n",
       "      <td>1921</td>\n",
       "    </tr>\n",
       "  </tbody>\n",
       "</table>\n",
       "<p>5 rows × 28 columns</p>\n",
       "</div>"
      ],
      "text/plain": [
       "       hour_click  hour_attributed  hour_difference  ip_count  ip_app_count  \\\n",
       "71584     12.5928             -1.0             -1.0         6             1   \n",
       "98962     42.4344             -1.0             -1.0         3             1   \n",
       "74509     58.3939             -1.0             -1.0         3             1   \n",
       "86798     19.4608             -1.0             -1.0       669            35   \n",
       "54930     16.4792             -1.0             -1.0         2             1   \n",
       "\n",
       "       ip_device_count  ip_channel_count  ip_os_count  device_count  \\\n",
       "71584                6                 1            1         94338   \n",
       "98962                3                 1            1         94338   \n",
       "74509                3                 1            1         94338   \n",
       "86798              577                 8           11         94338   \n",
       "54930                2                 1            2         94338   \n",
       "\n",
       "       device_app_count  ...  ct_ip_count  ct_app_count  ct_device_count  \\\n",
       "71584              8348  ...            1             2                3   \n",
       "98962             12447  ...            1             1                1   \n",
       "74509             17656  ...            1             1                1   \n",
       "86798              5263  ...            1             1                1   \n",
       "54930              1256  ...            1             1                2   \n",
       "\n",
       "       ct_os_count  ct_channel_count  dt_ip_count  dt_app_count  \\\n",
       "71584            2                 1            6          8984   \n",
       "98962            1                 1            3         13197   \n",
       "74509            1                 1            3         18275   \n",
       "86798            1                 1          666          5359   \n",
       "54930            1                 1            2          1303   \n",
       "\n",
       "       dt_device_count  dt_os_count  dt_channel_count  \n",
       "71584            94192         1348              1074  \n",
       "98962            94192         4826              3130  \n",
       "74509            94192         1310              8112  \n",
       "86798            94192          786              1468  \n",
       "54930            94192        21198              1921  \n",
       "\n",
       "[5 rows x 28 columns]"
      ]
     },
     "execution_count": 102,
     "metadata": {},
     "output_type": "execute_result"
    }
   ],
   "source": [
    "X_train.head()"
   ]
  },
  {
   "cell_type": "code",
   "execution_count": 103,
   "metadata": {},
   "outputs": [
    {
     "data": {
      "text/plain": [
       "pandas.core.frame.DataFrame"
      ]
     },
     "execution_count": 103,
     "metadata": {},
     "output_type": "execute_result"
    }
   ],
   "source": [
    "type(X_train)"
   ]
  },
  {
   "cell_type": "markdown",
   "metadata": {},
   "source": [
    "## Dealing with categorical data"
   ]
  },
  {
   "cell_type": "code",
   "execution_count": null,
   "metadata": {},
   "outputs": [],
   "source": [
    "from sklearn.preprocessing import LabelEncoder, OneHotEncoder\n",
    "labelencoder_X = LabelEncoder()\n",
    "X_train.iloc[:, 19] = labelencoder_X.fit_transform(X_train.iloc[:,19])\n",
    "onehotencoder = OneHotEncoder(categorical_features = [19])\n",
    "X_train = onehotencoder.fit_transform(X_train)\n"
   ]
  },
  {
   "cell_type": "code",
   "execution_count": null,
   "metadata": {},
   "outputs": [],
   "source": [
    "type(y_train)"
   ]
  },
  {
   "cell_type": "markdown",
   "metadata": {},
   "source": [
    "## Over sampling data"
   ]
  },
  {
   "cell_type": "code",
   "execution_count": 104,
   "metadata": {},
   "outputs": [],
   "source": [
    "from imblearn.over_sampling import SMOTE\n",
    "X_resampled, y_resampled = SMOTE().fit_resample(X_train, y_train)"
   ]
  },
  {
   "cell_type": "code",
   "execution_count": 105,
   "metadata": {
    "scrolled": true
   },
   "outputs": [
    {
     "name": "stdout",
     "output_type": "stream",
     "text": [
      "84811 84811\n",
      "84811 84811\n"
     ]
    }
   ],
   "source": [
    "print(sum(y_resampled==0),sum(y_resampled==1))\n",
    "print(sum(X_resampled[:,1]==-1),sum(X_resampled[:,1]!=-1))"
   ]
  },
  {
   "cell_type": "code",
   "execution_count": 106,
   "metadata": {},
   "outputs": [
    {
     "data": {
      "text/plain": [
       "array([ 1.25928e+01, -1.00000e+00, -1.00000e+00,  6.00000e+00,\n",
       "        1.00000e+00,  6.00000e+00,  1.00000e+00,  1.00000e+00,\n",
       "        9.43380e+04,  8.34800e+03,  1.04600e+03,  1.32300e+03,\n",
       "        1.34800e+03,  1.21000e+02,  8.00000e+00,  1.07400e+03,\n",
       "        1.07400e+03,  3.00000e+00,  1.00000e+00,  2.00000e+00,\n",
       "        3.00000e+00,  2.00000e+00,  1.00000e+00,  6.00000e+00,\n",
       "        8.98400e+03,  9.41920e+04,  1.34800e+03,  1.07400e+03])"
      ]
     },
     "execution_count": 106,
     "metadata": {},
     "output_type": "execute_result"
    }
   ],
   "source": [
    "X_resampled[0,:]"
   ]
  },
  {
   "cell_type": "code",
   "execution_count": 112,
   "metadata": {},
   "outputs": [
    {
     "data": {
      "text/html": [
       "<div>\n",
       "<style scoped>\n",
       "    .dataframe tbody tr th:only-of-type {\n",
       "        vertical-align: middle;\n",
       "    }\n",
       "\n",
       "    .dataframe tbody tr th {\n",
       "        vertical-align: top;\n",
       "    }\n",
       "\n",
       "    .dataframe thead th {\n",
       "        text-align: right;\n",
       "    }\n",
       "</style>\n",
       "<table border=\"1\" class=\"dataframe\">\n",
       "  <thead>\n",
       "    <tr style=\"text-align: right;\">\n",
       "      <th></th>\n",
       "      <th>hour_click</th>\n",
       "      <th>hour_attributed</th>\n",
       "      <th>hour_difference</th>\n",
       "      <th>ip_count</th>\n",
       "      <th>ip_app_count</th>\n",
       "      <th>ip_device_count</th>\n",
       "      <th>ip_channel_count</th>\n",
       "      <th>ip_os_count</th>\n",
       "      <th>device_count</th>\n",
       "      <th>device_app_count</th>\n",
       "      <th>...</th>\n",
       "      <th>ct_ip_count</th>\n",
       "      <th>ct_app_count</th>\n",
       "      <th>ct_device_count</th>\n",
       "      <th>ct_os_count</th>\n",
       "      <th>ct_channel_count</th>\n",
       "      <th>dt_ip_count</th>\n",
       "      <th>dt_app_count</th>\n",
       "      <th>dt_device_count</th>\n",
       "      <th>dt_os_count</th>\n",
       "      <th>dt_channel_count</th>\n",
       "    </tr>\n",
       "  </thead>\n",
       "  <tbody>\n",
       "    <tr>\n",
       "      <th>71584</th>\n",
       "      <td>12.5928</td>\n",
       "      <td>-1.0</td>\n",
       "      <td>-1.0</td>\n",
       "      <td>6</td>\n",
       "      <td>1</td>\n",
       "      <td>6</td>\n",
       "      <td>1</td>\n",
       "      <td>1</td>\n",
       "      <td>94338</td>\n",
       "      <td>8348</td>\n",
       "      <td>...</td>\n",
       "      <td>1</td>\n",
       "      <td>2</td>\n",
       "      <td>3</td>\n",
       "      <td>2</td>\n",
       "      <td>1</td>\n",
       "      <td>6</td>\n",
       "      <td>8984</td>\n",
       "      <td>94192</td>\n",
       "      <td>1348</td>\n",
       "      <td>1074</td>\n",
       "    </tr>\n",
       "    <tr>\n",
       "      <th>98962</th>\n",
       "      <td>42.4344</td>\n",
       "      <td>-1.0</td>\n",
       "      <td>-1.0</td>\n",
       "      <td>3</td>\n",
       "      <td>1</td>\n",
       "      <td>3</td>\n",
       "      <td>1</td>\n",
       "      <td>1</td>\n",
       "      <td>94338</td>\n",
       "      <td>12447</td>\n",
       "      <td>...</td>\n",
       "      <td>1</td>\n",
       "      <td>1</td>\n",
       "      <td>1</td>\n",
       "      <td>1</td>\n",
       "      <td>1</td>\n",
       "      <td>3</td>\n",
       "      <td>13197</td>\n",
       "      <td>94192</td>\n",
       "      <td>4826</td>\n",
       "      <td>3130</td>\n",
       "    </tr>\n",
       "    <tr>\n",
       "      <th>74509</th>\n",
       "      <td>58.3939</td>\n",
       "      <td>-1.0</td>\n",
       "      <td>-1.0</td>\n",
       "      <td>3</td>\n",
       "      <td>1</td>\n",
       "      <td>3</td>\n",
       "      <td>1</td>\n",
       "      <td>1</td>\n",
       "      <td>94338</td>\n",
       "      <td>17656</td>\n",
       "      <td>...</td>\n",
       "      <td>1</td>\n",
       "      <td>1</td>\n",
       "      <td>1</td>\n",
       "      <td>1</td>\n",
       "      <td>1</td>\n",
       "      <td>3</td>\n",
       "      <td>18275</td>\n",
       "      <td>94192</td>\n",
       "      <td>1310</td>\n",
       "      <td>8112</td>\n",
       "    </tr>\n",
       "    <tr>\n",
       "      <th>86798</th>\n",
       "      <td>19.4608</td>\n",
       "      <td>-1.0</td>\n",
       "      <td>-1.0</td>\n",
       "      <td>669</td>\n",
       "      <td>35</td>\n",
       "      <td>577</td>\n",
       "      <td>8</td>\n",
       "      <td>11</td>\n",
       "      <td>94338</td>\n",
       "      <td>5263</td>\n",
       "      <td>...</td>\n",
       "      <td>1</td>\n",
       "      <td>1</td>\n",
       "      <td>1</td>\n",
       "      <td>1</td>\n",
       "      <td>1</td>\n",
       "      <td>666</td>\n",
       "      <td>5359</td>\n",
       "      <td>94192</td>\n",
       "      <td>786</td>\n",
       "      <td>1468</td>\n",
       "    </tr>\n",
       "    <tr>\n",
       "      <th>54930</th>\n",
       "      <td>16.4792</td>\n",
       "      <td>-1.0</td>\n",
       "      <td>-1.0</td>\n",
       "      <td>2</td>\n",
       "      <td>1</td>\n",
       "      <td>2</td>\n",
       "      <td>1</td>\n",
       "      <td>2</td>\n",
       "      <td>94338</td>\n",
       "      <td>1256</td>\n",
       "      <td>...</td>\n",
       "      <td>1</td>\n",
       "      <td>1</td>\n",
       "      <td>2</td>\n",
       "      <td>1</td>\n",
       "      <td>1</td>\n",
       "      <td>2</td>\n",
       "      <td>1303</td>\n",
       "      <td>94192</td>\n",
       "      <td>21198</td>\n",
       "      <td>1921</td>\n",
       "    </tr>\n",
       "  </tbody>\n",
       "</table>\n",
       "<p>5 rows × 28 columns</p>\n",
       "</div>"
      ],
      "text/plain": [
       "       hour_click  hour_attributed  hour_difference  ip_count  ip_app_count  \\\n",
       "71584     12.5928             -1.0             -1.0         6             1   \n",
       "98962     42.4344             -1.0             -1.0         3             1   \n",
       "74509     58.3939             -1.0             -1.0         3             1   \n",
       "86798     19.4608             -1.0             -1.0       669            35   \n",
       "54930     16.4792             -1.0             -1.0         2             1   \n",
       "\n",
       "       ip_device_count  ip_channel_count  ip_os_count  device_count  \\\n",
       "71584                6                 1            1         94338   \n",
       "98962                3                 1            1         94338   \n",
       "74509                3                 1            1         94338   \n",
       "86798              577                 8           11         94338   \n",
       "54930                2                 1            2         94338   \n",
       "\n",
       "       device_app_count  ...  ct_ip_count  ct_app_count  ct_device_count  \\\n",
       "71584              8348  ...            1             2                3   \n",
       "98962             12447  ...            1             1                1   \n",
       "74509             17656  ...            1             1                1   \n",
       "86798              5263  ...            1             1                1   \n",
       "54930              1256  ...            1             1                2   \n",
       "\n",
       "       ct_os_count  ct_channel_count  dt_ip_count  dt_app_count  \\\n",
       "71584            2                 1            6          8984   \n",
       "98962            1                 1            3         13197   \n",
       "74509            1                 1            3         18275   \n",
       "86798            1                 1          666          5359   \n",
       "54930            1                 1            2          1303   \n",
       "\n",
       "       dt_device_count  dt_os_count  dt_channel_count  \n",
       "71584            94192         1348              1074  \n",
       "98962            94192         4826              3130  \n",
       "74509            94192         1310              8112  \n",
       "86798            94192          786              1468  \n",
       "54930            94192        21198              1921  \n",
       "\n",
       "[5 rows x 28 columns]"
      ]
     },
     "execution_count": 112,
     "metadata": {},
     "output_type": "execute_result"
    }
   ],
   "source": [
    "X_train.head()"
   ]
  },
  {
   "cell_type": "code",
   "execution_count": 131,
   "metadata": {},
   "outputs": [
    {
     "data": {
      "text/plain": [
       "<bound method NDFrame.keys of                         importance\n",
       "hour_difference       2.381862e-01\n",
       "hour_attributed       1.741550e-01\n",
       "dt_channel_count      1.402310e-01\n",
       "dt_device_count       1.101497e-01\n",
       "dt_os_count           1.026877e-01\n",
       "dt_app_count          8.770170e-02\n",
       "channel_app_count     4.070311e-02\n",
       "dt_ip_count           3.994904e-02\n",
       "device_app_count      2.447206e-02\n",
       "device_channel_count  1.406867e-02\n",
       "channel_count         1.119619e-02\n",
       "os_app_count          6.946052e-03\n",
       "ip_device_count       4.091575e-03\n",
       "device_os_count       2.447587e-03\n",
       "os_count              1.895330e-03\n",
       "ip_app_count          5.916518e-04\n",
       "hour_click            2.223269e-04\n",
       "ip_os_count           1.573985e-04\n",
       "os_channel_count      1.443709e-04\n",
       "ip_channel_count      2.734439e-06\n",
       "ct_app_count          4.990676e-07\n",
       "device_count          5.207534e-08\n",
       "ct_device_count       6.848207e-09\n",
       "click_time_count      0.000000e+00\n",
       "ct_ip_count           0.000000e+00\n",
       "ct_os_count           0.000000e+00\n",
       "ct_channel_count      0.000000e+00\n",
       "ip_count              0.000000e+00>"
      ]
     },
     "execution_count": 131,
     "metadata": {},
     "output_type": "execute_result"
    }
   ],
   "source": [
    "feature_importances.keys"
   ]
  },
  {
   "cell_type": "code",
   "execution_count": 135,
   "metadata": {},
   "outputs": [
    {
     "name": "stdout",
     "output_type": "stream",
     "text": [
      "                        importance\n",
      "hour_difference       2.381862e-01\n",
      "hour_attributed       1.741550e-01\n",
      "dt_channel_count      1.402310e-01\n",
      "dt_device_count       1.101497e-01\n",
      "dt_os_count           1.026877e-01\n",
      "dt_app_count          8.770170e-02\n",
      "channel_app_count     4.070311e-02\n",
      "dt_ip_count           3.994904e-02\n",
      "device_app_count      2.447206e-02\n",
      "device_channel_count  1.406867e-02\n",
      "channel_count         1.119619e-02\n",
      "os_app_count          6.946052e-03\n",
      "ip_device_count       4.091575e-03\n",
      "device_os_count       2.447587e-03\n",
      "os_count              1.895330e-03\n",
      "ip_app_count          5.916518e-04\n",
      "hour_click            2.223269e-04\n",
      "ip_os_count           1.573985e-04\n",
      "os_channel_count      1.443709e-04\n",
      "ip_channel_count      2.734439e-06\n",
      "ct_app_count          4.990676e-07\n",
      "device_count          5.207534e-08\n",
      "ct_device_count       6.848207e-09\n",
      "click_time_count      0.000000e+00\n",
      "ct_ip_count           0.000000e+00\n",
      "ct_os_count           0.000000e+00\n",
      "ct_channel_count      0.000000e+00\n",
      "ip_count              0.000000e+00\n"
     ]
    },
    {
     "data": {
      "text/plain": [
       "<matplotlib.axes._subplots.AxesSubplot at 0x1a25ad1860>"
      ]
     },
     "execution_count": 135,
     "metadata": {},
     "output_type": "execute_result"
    },
    {
     "data": {
      "image/png": "[encoded data removed]",
      "text/plain": [
       "<Figure size 432x288 with 1 Axes>"
      ]
     },
     "metadata": {},
     "output_type": "display_data"
    }
   ],
   "source": [
    "from sklearn.ensemble import RandomForestClassifier\n",
    "clf = RandomForestClassifier(n_estimators=100, max_depth=4,random_state=0, n_jobs=-1, class_weight=\"balanced\")\n",
    "clf.fit(X_train, y_train)  \n",
    "feature_importances = pd.DataFrame(clf.feature_importances_,index = X_train.columns,columns=['importance']).sort_values('importance',ascending=False)\n",
    "indices = np.argsort(feature_importances)[::-1]\n",
    "std = np.std([tree.feature_importances_ for tree in clf.estimators_],\n",
    "             axis=0)\n",
    "\n",
    "print(feature_importances)\n",
    "\n",
    "feat_importances = pd.Series(clf.feature_importances_, index=X_train.columns)\n",
    "feat_importances.nlargest(8).plot(kind='barh')"
   ]
  },
  {
   "cell_type": "code",
   "execution_count": 136,
   "metadata": {},
   "outputs": [
    {
     "ename": "NameError",
     "evalue": "name 'X_test' is not defined",
     "output_type": "error",
     "traceback": [
      "\u001b[0;31m---------------------------------------------------------------------------\u001b[0m",
      "\u001b[0;31mNameError\u001b[0m                                 Traceback (most recent call last)",
      "\u001b[0;32m<ipython-input-136-14cf014e97f9>\u001b[0m in \u001b[0;36m<module>\u001b[0;34m\u001b[0m\n\u001b[0;32m----> 1\u001b[0;31m \u001b[0mclf\u001b[0m\u001b[0;34m.\u001b[0m\u001b[0mscore\u001b[0m\u001b[0;34m(\u001b[0m\u001b[0mX_test\u001b[0m\u001b[0;34m,\u001b[0m \u001b[0my_test\u001b[0m\u001b[0;34m)\u001b[0m\u001b[0;34m\u001b[0m\u001b[0;34m\u001b[0m\u001b[0m\n\u001b[0m",
      "\u001b[0;31mNameError\u001b[0m: name 'X_test' is not defined"
     ]
    }
   ],
   "source": []
  },
  {
   "cell_type": "code",
   "execution_count": null,
   "metadata": {},
   "outputs": [],
   "source": []
  }
 ],
 "metadata": {
  "kernelspec": {
   "display_name": "Python 3",
   "language": "python",
   "name": "python3"
  },
  "language_info": {
   "codemirror_mode": {
    "name": "ipython",
    "version": 3
   },
   "file_extension": ".py",
   "mimetype": "text/x-python",
   "name": "python",
   "nbconvert_exporter": "python",
   "pygments_lexer": "ipython3",
   "version": "3.6.8"
  }
 },
 "nbformat": 4,
 "nbformat_minor": 2
}
