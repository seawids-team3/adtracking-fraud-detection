{
 "cells": [
  {
   "cell_type": "code",
   "execution_count": 1,
   "metadata": {},
   "outputs": [],
   "source": [
    "import pyspark\n",
    "import pyspark.sql.functions as F\n",
    "import pyspark.sql.types as T\n",
    "from pyspark.ml.clustering import KMeans\n",
    "from pyspark.ml.feature import VectorAssembler\n",
    "from pyspark.ml.tuning import TrainValidationSplit, ParamGridBuilder\n",
    "from pyspark.ml.classification import RandomForestClassifier\n",
    "from pyspark.ml.evaluation import BinaryClassificationEvaluator"
   ]
  },
  {
   "cell_type": "code",
   "execution_count": 2,
   "metadata": {},
   "outputs": [
    {
     "name": "stdout",
     "output_type": "stream",
     "text": [
      "pyspark 2.4.1\n",
      "\n"
     ]
    }
   ],
   "source": [
    "# This is optional stuff - either pip install watermark\n",
    "# or just comment it out (it just keeps track of what library\n",
    "# versions I have)\n",
    "%load_ext watermark\n",
    "%watermark -iv"
   ]
  },
  {
   "cell_type": "code",
   "execution_count": 3,
   "metadata": {},
   "outputs": [
    {
     "data": {
      "text/plain": [
       "<pyspark.sql.session.SparkSession.Builder at 0x10f3794a8>"
      ]
     },
     "execution_count": 3,
     "metadata": {},
     "output_type": "execute_result"
    }
   ],
   "source": [
    "# Comment these out to run on a cluster. Also, adjust memory to size of your laptop\n",
    "pyspark.sql.SparkSession.builder.config('spark.driver.memory', '10g')\n",
    "pyspark.sql.SparkSession.builder.config('spark.sql.shuffle.paritions', 5)"
   ]
  },
  {
   "cell_type": "code",
   "execution_count": 4,
   "metadata": {},
   "outputs": [],
   "source": [
    "spark = pyspark.sql.SparkSession.builder.getOrCreate()"
   ]
  },
  {
   "cell_type": "markdown",
   "metadata": {},
   "source": [
    "# Checkpoint 1 \n",
    "\n",
    "Read the csv file, drop the attributed_time (because I didn't use it in the MVP),\n",
    "and downsample the 0 class by 50% because I'm still on my laptop "
   ]
  },
  {
   "cell_type": "code",
   "execution_count": 50,
   "metadata": {},
   "outputs": [],
   "source": [
    "if False:\n",
    "    df = spark.read.csv('../data/train.csv', \n",
    "                    header=True, inferSchema=True)\n",
    "\n",
    "    df = df.drop('attributed_time')\n",
    "    df = df.sampleBy('is_attributed', fractions={0:.25,1:1.})\n",
    "    \n",
    "    test = spark.read.csv('../data/test.csv', \n",
    "                         header= True, inferSchema=True)\n",
    "\n",
    "    df.write.parquet('../data/checkpoint1.parquet', mode='overwrite')\n",
    "    test.write.parquet('../data/test_checkpoint1.parquet', mode='overwrite')\n",
    "else:\n",
    "    df = spark.read.parquet('../data/checkpoint1.parquet')\n",
    "    test = spark.read.parquet('../data/test_checkpoint1.parquet')"
   ]
  },
  {
   "cell_type": "code",
   "execution_count": 51,
   "metadata": {},
   "outputs": [
    {
     "data": {
      "text/plain": [
       "[('ip', 'int'),\n",
       " ('app', 'int'),\n",
       " ('device', 'int'),\n",
       " ('os', 'int'),\n",
       " ('channel', 'int'),\n",
       " ('click_time', 'timestamp'),\n",
       " ('is_attributed', 'int')]"
      ]
     },
     "execution_count": 51,
     "metadata": {},
     "output_type": "execute_result"
    }
   ],
   "source": [
    "df.dtypes"
   ]
  },
  {
   "cell_type": "code",
   "execution_count": 52,
   "metadata": {},
   "outputs": [
    {
     "data": {
      "text/plain": [
       "[('click_id', 'int'),\n",
       " ('ip', 'int'),\n",
       " ('app', 'int'),\n",
       " ('device', 'int'),\n",
       " ('os', 'int'),\n",
       " ('channel', 'int'),\n",
       " ('click_time', 'timestamp')]"
      ]
     },
     "execution_count": 52,
     "metadata": {},
     "output_type": "execute_result"
    }
   ],
   "source": [
    "test.dtypes"
   ]
  },
  {
   "cell_type": "markdown",
   "metadata": {},
   "source": [
    "# Checkpoint 2\n",
    "## Counting \n",
    "\n",
    "Really taking stuff away from the MVP model here because it's too hard to \n",
    "make it run on my laptop.  Maybe next time...\n"
   ]
  },
  {
   "cell_type": "code",
   "execution_count": 53,
   "metadata": {},
   "outputs": [],
   "source": [
    "from itertools import combinations\n",
    "columns = [ 'device', 'os', 'ip', 'channel', 'app' ]"
   ]
  },
  {
   "cell_type": "code",
   "execution_count": 54,
   "metadata": {},
   "outputs": [],
   "source": [
    "def make_count_column( sdf, sdf_name, groupby_clause ):\n",
    "    column_name = \"_\".join(groupby_clause)\n",
    "    table_name = \"_\".join([sdf_name, column_name])\n",
    "\n",
    "    counts_sdf =  sdf.groupby( \n",
    "                        groupby_clause \n",
    "                ).count(\n",
    "                ).withColumnRenamed(\n",
    "                        'count', column_name\n",
    "                ).orderBy(\n",
    "                    column_name, ascending = False\n",
    "                ).limit(\n",
    "                    100\n",
    "                )\n",
    "    counts_sdf.createOrReplaceTempView(table_name)\n",
    "    \n",
    "    join_clauses = [ f\"{sdf_name}.{b} = {table_name}.{b}\" for b in groupby_clause ]\n",
    "    return counts_sdf, join_clauses\n",
    "\n",
    "if True:\n",
    "    test_frames = {}\n",
    "    train_frames = {}\n",
    "    \n",
    "    for bigram in combinations(columns, 2):\n",
    "        b = list(bigram)\n",
    "        c = '_'.join(b)\n",
    "        \n",
    "        train_frames[bigram] = make_count_column( df, \"train\", b )\n",
    "        test_frames[bigram]  = make_count_column( test, \"test\", b )\n",
    "        "
   ]
  },
  {
   "cell_type": "code",
   "execution_count": 55,
   "metadata": {},
   "outputs": [],
   "source": [
    "df.createOrReplaceTempView('train')\n",
    "test.createOrReplaceTempView('test')"
   ]
  },
  {
   "cell_type": "code",
   "execution_count": 56,
   "metadata": {},
   "outputs": [
    {
     "data": {
      "text/plain": [
       "'device_os, device_ip, device_channel, device_app, os_ip, os_channel, os_app, ip_channel, ip_app, channel_app'"
      ]
     },
     "execution_count": 56,
     "metadata": {},
     "output_type": "execute_result"
    }
   ],
   "source": [
    "count_names = [ \"_\".join(c) for c in combinations(columns, 2)]\n",
    "bigram_select = \", \".join(count_names)\n",
    "    \n",
    "bigram_select"
   ]
  },
  {
   "cell_type": "code",
   "execution_count": 61,
   "metadata": {},
   "outputs": [
    {
     "name": "stdout",
     "output_type": "stream",
     "text": [
      "\n",
      "SELECT is_attributed, device_os, device_ip, device_channel, device_app, os_ip, os_channel, os_app, ip_channel, ip_app, channel_app\n",
      "FROM train\n",
      "JOIN train_device_os ON \n",
      "train.device = train_device_os.device AND\n",
      " train.os = train_device_os.os JOIN train_device_ip ON \n",
      "train.device = train_device_ip.device AND\n",
      " train.ip = train_device_ip.ip JOIN train_device_channel ON \n",
      "train.device = train_device_channel.device AND\n",
      " train.channel = train_device_channel.channel JOIN train_device_app ON \n",
      "train.device = train_device_app.device AND\n",
      " train.app = train_device_app.app JOIN train_os_ip ON \n",
      "train.os = train_os_ip.os AND\n",
      " train.ip = train_os_ip.ip JOIN train_os_channel ON \n",
      "train.os = train_os_channel.os AND\n",
      " train.channel = train_os_channel.channel JOIN train_os_app ON \n",
      "train.os = train_os_app.os AND\n",
      " train.app = train_os_app.app JOIN train_ip_channel ON \n",
      "train.ip = train_ip_channel.ip AND\n",
      " train.channel = train_ip_channel.channel JOIN train_ip_app ON \n",
      "train.ip = train_ip_app.ip AND\n",
      " train.app = train_ip_app.app JOIN train_channel_app ON \n",
      "train.channel = train_channel_app.channel AND\n",
      " train.app = train_channel_app.app WHERE device_os IS NOT NULL OR\n",
      "device_ip IS NOT NULL OR\n",
      "device_channel IS NOT NULL OR\n",
      "device_app IS NOT NULL OR\n",
      "os_ip IS NOT NULL OR\n",
      "os_channel IS NOT NULL OR\n",
      "os_app IS NOT NULL OR\n",
      "ip_channel IS NOT NULL OR\n",
      "ip_app IS NOT NULL OR\n",
      "channel_app IS NOT NULL \n"
     ]
    }
   ],
   "source": [
    "train_select = (f\"\"\"\n",
    "SELECT is_attributed, {bigram_select}\n",
    "FROM train\n",
    "\"\"\")\n",
    "\n",
    "where = \"WHERE \" \n",
    "for b in count_names:\n",
    "    where += b + \" IS NOT NULL OR\\n\"\n",
    "where = where[:-3]\n",
    "    \n",
    "join_train = \"\"\n",
    "for k in train_frames.keys():\n",
    "    b = \"train_\" +  \"_\".join(k)\n",
    "    join_train += \"JOIN \" + b  + \" ON \\n\"\n",
    "    for col in train_frames[k][1]:\n",
    "        join_train +=  col + \" AND\\n \"\n",
    "    join_train = join_train[:-5]\n",
    "          \n",
    "train_select += join_train + where\n",
    "print(train_select)"
   ]
  },
  {
   "cell_type": "code",
   "execution_count": 62,
   "metadata": {},
   "outputs": [],
   "source": [
    "df = spark.sql(train_select)\n"
   ]
  },
  {
   "cell_type": "code",
   "execution_count": 63,
   "metadata": {},
   "outputs": [
    {
     "name": "stdout",
     "output_type": "stream",
     "text": [
      "+-------------+---------+---------+--------------+----------+-----+----------+-------+----------+------+-----------+\n",
      "|is_attributed|device_os|device_ip|device_channel|device_app|os_ip|os_channel| os_app|ip_channel|ip_app|channel_app|\n",
      "+-------------+---------+---------+--------------+----------+-----+----------+-------+----------+------+-----------+\n",
      "|            0|  1126278|   253102|       1765322|   5159353| 9940|     83384| 168220|     13483| 28056|     915840|\n",
      "|            0| 10854303|   253102|       2106576|   3836133|62610|    529118| 990791|     14957| 25558|    1445321|\n",
      "|            0|  9615116|    42946|        637666|   5159353| 9674|    134495|1134463|      8748| 11231|     660173|\n",
      "|            0|  1126278|   267793|       1765322|   5159353|10635|     83384| 168220|     14428| 30359|     915840|\n",
      "|            0| 10854303|   253102|       2106576|   3836133|62610|    529118| 990791|     14957| 25558|    1445321|\n",
      "|            0|  1126278|   267793|       1765322|   5159353|10635|     83384| 168220|     14428| 30359|     915840|\n",
      "|            0| 10854303|   159432|       3637823|   8197886|51161|    885433|2057447|      8550| 42428|    3624564|\n",
      "|            0| 10854303|   267793|       2106576|   5708469|66474|    529118|1445247|     15400| 38205|     772631|\n",
      "|            0| 10854303|    25554|        961158|   5159353| 7805|    277662|1359607|     10075| 12459|     589211|\n",
      "|            0| 10854303|   159432|       1935510|   3730754|51161|    372490| 827047|      6793| 11174|    1954244|\n",
      "|            0|  9615116|   267793|       1765322|   1057173|64081|    371449| 233632|     14428|  7912|     730554|\n",
      "|            0|  2183923|   267793|       2106576|   3836133|13797|    109388| 192902|     15400| 26612|    1445321|\n",
      "|            0|  1271457|   267793|       3637823|   8197886| 7788|    128247| 255098|     19311| 50161|    3624564|\n",
      "|            0| 10854303|   253102|       2106576|   5708469|62610|    529118|1445247|     14957| 36186|     772631|\n",
      "|            0| 10854303|   267793|       1285499|   5708469|66474|    311640|1445247|     10237| 38205|    1055274|\n",
      "|            0|  2299143|   267793|       1935510|   3730754|14101|    108823| 202274|     15776| 26701|    1954244|\n",
      "|            0|  9615116|    36396|        961158|   5159353| 7888|    223912|1134463|     19883| 22203|     589211|\n",
      "|            0|   253296|    29042|         77502|    339262|62610|    311640|1445247|      9714| 36186|    1055274|\n",
      "|            0|  9615116|   267793|       1285499|   5708469|64081|    310456|1370296|     10237| 38205|    1055274|\n",
      "|            0| 10854303|   159432|       3637823|   8197886|51161|    885433|2057447|      8550| 42428|    3624564|\n",
      "|            0| 10854303|   267793|       1935510|   3730754|66474|    372490| 827047|     15776| 26701|    1954244|\n",
      "|            0|  9615116|   253102|       1285499|   3836133|60614|    310456| 876919|      9714| 25558|     308002|\n",
      "|            0|  1271457|   267793|       3637823|   8197886| 7788|    128247| 255098|     19311| 50161|    3624564|\n",
      "|            0| 10854303|   267793|       1418915|   3730754|66474|    367911| 827047|     10343| 26701|     468418|\n",
      "|            0|  9615116|   253102|        853021|   2454171|60614|    202690| 547013|      6743| 16388|     213091|\n",
      "|            0|  9615116|   267793|       1206304|   5708469|64081|    345164|1370296|      7804| 38205|    1186868|\n",
      "|            0|  1126278|   253102|       1765322|   5159353| 9940|     83384| 168220|     13483| 28056|     915840|\n",
      "|            0|  9615116|   108616|       3637823|   8197886|26527|    857569|1886355|      9312| 21677|    3624564|\n",
      "|            0|  1126278|   267793|       1765322|   5159353|10635|     83384| 168220|     14428| 30359|     915840|\n",
      "|            0|  9615116|    92624|       2106576|   3836133|22262|    492525| 876919|      6660|  9996|    1445321|\n",
      "|            0|  1126278|   267793|       1765322|   5159353|10635|     83384| 168220|     14428| 30359|     915840|\n",
      "|            0|  9615116|   267793|       1285499|   5708469|64081|    310456|1370296|     10237| 38205|    1055274|\n",
      "|            0| 10854303|   253102|       2106576|   3836133|62610|    529118| 990791|     14957| 25558|    1445321|\n",
      "|            0| 10854303|    25554|        961158|   5159353| 7805|    277662|1359607|     10075| 12459|     589211|\n",
      "|            0|  2183923|   267793|       3637823|   8197886|13797|    213467| 435993|     19311| 50161|    3624564|\n",
      "|            0|  9615116|   267793|       1335185|   1364433|64081|    300779| 321157|      8829| 11010|     246644|\n",
      "|            0|  9615116|   267793|       3637823|   8197886|64081|    857569|1886355|     19311| 50161|    3624564|\n",
      "|            0| 10854303|    25130|        961158|   5159353| 7611|    277662|1359607|     10490| 12661|     589211|\n",
      "|            0|  9615116|   267793|       1335185|   1364433|64081|    300779| 321157|      8829| 11010|     246644|\n",
      "|            0|  1126278|   267793|       1765322|   5159353|10635|     83384| 168220|     14428| 30359|     915840|\n",
      "|            0| 10854303|    25554|        961158|   5159353| 7805|    277662|1359607|     10075| 12459|     589211|\n",
      "|            0| 10854303|   267793|       2106576|   3836133|66474|    529118| 990791|     15400| 26612|    1445321|\n",
      "|            0|  9615116|   267793|       1418915|   1364433|64081|    340464| 321157|     10343| 11010|     300764|\n",
      "|            0| 10854303|   253102|       2106576|   5708469|62610|    529118|1445247|     14957| 36186|     772631|\n",
      "|            0|  9615116|   253102|       2106576|   5708469|60614|    492525|1370296|     14957| 36186|     772631|\n",
      "|            0|   253296|    29042|        128825|    283473|62610|    885433|2057447|     18817| 47788|    3624564|\n",
      "|            0|  9615116|   267793|       1935510|   3730754|64081|    368335| 762495|     15776| 26701|    1954244|\n",
      "|            0|  9615116|   253102|       1935510|   3730754|60614|    368335| 762495|     14683| 25239|    1954244|\n",
      "|            0| 10854303|    36396|        961158|   5159353| 9559|    277662|1359607|     19883| 22203|     589211|\n",
      "|            0|  9615116|   253102|        853021|   2454171|60614|    202690| 547013|      6743| 16388|     213091|\n",
      "|            0| 10854303|    36396|        961158|   5159353| 9559|    277662|1359607|     19883| 22203|     589211|\n",
      "|            0| 10854303|   108616|       1935510|   3730754|30677|    372490| 827047|      5822|  9892|    1954244|\n",
      "|            0|  9615116|   253102|       3637823|   8197886|60614|    857569|1886355|     18817| 47788|    3624564|\n",
      "|            0| 10854303|    25130|        961158|   5159353| 7611|    277662|1359607|     10490| 12661|     589211|\n",
      "|            0| 10854303|   253102|       1148032|   3730754|62610|    292442| 827047|      8056| 25239|     801839|\n",
      "|            0| 10854303|    36396|        961158|   5159353| 9559|    277662|1359607|     19883| 22203|     589211|\n",
      "|            0|  2299143|   253102|       3637823|   8197886|13454|    216773| 455953|     18817| 47788|    3624564|\n",
      "|            0|  9615116|   253102|        853021|   2454171|60614|    202690| 547013|      6743| 16388|     213091|\n",
      "|            0|  9615116|   253102|       1206304|   5708469|60614|    345164|1370296|      7374| 36186|    1186868|\n",
      "|            0| 10854303|    40945|        637666|   5159353| 9975|    172105|1359607|      8383| 10619|     660173|\n",
      "|            0|   253296|    29042|        111017|    156747|62610|    529118| 990791|     14957| 25558|    1445321|\n",
      "|            0|  9615116|    92624|       2106576|   5708469|22262|    492525|1370296|      6660| 14648|     772631|\n",
      "|            0|  9615116|   253102|       1285499|   3836133|60614|    310456| 876919|      9714| 25558|     308002|\n",
      "|            0|   379168|    31299|        128825|    283473|64081|    857569|1886355|     19311| 50161|    3624564|\n",
      "|            0|  9615116|    36396|        961158|   5159353| 7888|    223912|1134463|     19883| 22203|     589211|\n",
      "|            0| 10854303|    36396|        961158|   5159353| 9559|    277662|1359607|     19883| 22203|     589211|\n",
      "|            0| 10854303|    92624|       2106576|   5708469|26001|    529118|1445247|      6660| 14648|     772631|\n",
      "|            0| 10854303|   159432|       3637823|   8197886|51161|    885433|2057447|      8550| 42428|    3624564|\n",
      "|            0|  9615116|    36396|        961158|   5159353| 7888|    223912|1134463|     19883| 22203|     589211|\n",
      "|            0|   379168|    29042|        111017|    339262|60614|    492525|1370296|     14957| 36186|     772631|\n",
      "|            0|   379168|    29042|        110342|    339262|60614|    345164|1370296|      7374| 36186|    1186868|\n",
      "|            0|  9615116|   267793|       2106576|   3836133|64081|    492525| 876919|     15400| 26612|    1445321|\n",
      "|            0|  9615116|   253102|       3637823|   8197886|60614|    857569|1886355|     18817| 47788|    3624564|\n",
      "|            0| 10854303|    25130|        961158|   5159353| 7611|    277662|1359607|     10490| 12661|     589211|\n",
      "|            0|  9615116|   158054|       2106576|   5708469|40354|    492525|1370296|     10291| 50773|     772631|\n",
      "|            0|  1126278|   253102|       3637823|   8197886| 9940|     99070| 213585|     18817| 47788|    3624564|\n",
      "|            0|  9615116|    92624|       2106576|   3836133|22262|    492525| 876919|      6660|  9996|    1445321|\n",
      "|            0|  9615116|    92624|       2106576|   5708469|22262|    492525|1370296|      6660| 14648|     772631|\n",
      "|            0|  9615116|   267793|        853021|   8197886|64081|    202690|1886355|      7124| 50161|     311921|\n",
      "|            0|   120136|    31299|        128825|    283473|14101|    216773| 455953|     19311| 50161|    3624564|\n",
      "|            0| 10854303|   159432|       1287150|   5708469|51161|    307936|1445247|     14338| 51362|     690199|\n",
      "|            0|  1126278|   253102|       1765322|   5159353| 9940|     83384| 168220|     13483| 28056|     915840|\n",
      "|            0| 10854303|    41702|        637666|   5159353|10363|    172105|1359607|      8518| 10880|     660173|\n",
      "|            0|   379168|    31299|        128825|    283473|64081|    857569|1886355|     19311| 50161|    3624564|\n",
      "|            0|  9615116|   267793|       1335185|   3836133|64081|    300779| 876919|      8829| 26612|     161008|\n",
      "|            0| 10854303|   158054|       1287150|   5708469|50452|    307936|1445247|     14015| 50773|     690199|\n",
      "|            0|   379168|    32369|        128825|    283473|40354|    857569|1886355|      8541| 42548|    3624564|\n",
      "|            0| 10854303|    42657|        637666|   5159353|10917|    172105|1359607|      8772| 11126|     660173|\n",
      "|            0|  9615116|   267793|       3637823|   8197886|64081|    857569|1886355|     19311| 50161|    3624564|\n",
      "|            0| 10854303|    92624|       3637823|   8197886|26001|    885433|2057447|      8107| 18827|    3624564|\n",
      "|            0| 10854303|    42946|        637666|   5159353|10616|    172105|1359607|      8748| 11231|     660173|\n",
      "|            0|  1126278|   253102|       1765322|   5159353| 9940|     83384| 168220|     13483| 28056|     915840|\n",
      "|            0| 10854303|   159432|       2106576|   3836133|51161|    529118| 990791|     10255| 12085|    1445321|\n",
      "|            0|  9615116|   267793|       2106576|   5708469|64081|    492525|1370296|     15400| 38205|     772631|\n",
      "|            0|  9615116|    92624|       2106576|   3836133|22262|    492525| 876919|      6660|  9996|    1445321|\n",
      "|            0| 10854303|    41702|        637666|   5159353|10363|    172105|1359607|      8518| 10880|     660173|\n",
      "|            0| 10854303|   158054|       1287150|   5708469|50452|    307936|1445247|     14015| 50773|     690199|\n",
      "|            0|  9615116|    36396|        961158|   5159353| 7888|    223912|1134463|     19883| 22203|     589211|\n",
      "|            0| 10854303|   267793|       1335185|   3836133|66474|    350730| 990791|      8829| 26612|     161008|\n",
      "|            0| 10854303|   267793|        845278|   8197886|66474|    219783|2057447|      6504| 50161|     246986|\n",
      "+-------------+---------+---------+--------------+----------+-----+----------+-------+----------+------+-----------+\n",
      "\n"
     ]
    }
   ],
   "source": [
    "df.show(100)"
   ]
  },
  {
   "cell_type": "code",
   "execution_count": null,
   "metadata": {},
   "outputs": [],
   "source": []
  }
 ],
 "metadata": {
  "kernelspec": {
   "display_name": "Python 3",
   "language": "python",
   "name": "python3"
  },
  "language_info": {
   "codemirror_mode": {
    "name": "ipython",
    "version": 3
   },
   "file_extension": ".py",
   "mimetype": "text/x-python",
   "name": "python",
   "nbconvert_exporter": "python",
   "pygments_lexer": "ipython3",
   "version": "3.6.8"
  }
 },
 "nbformat": 4,
 "nbformat_minor": 2
}
