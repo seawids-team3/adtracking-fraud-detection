{
 "cells": [
  {
   "cell_type": "markdown",
   "metadata": {},
   "source": [
    "# MVP\n",
    "\n",
    "Minimum Viable Project"
   ]
  },
  {
   "cell_type": "code",
   "execution_count": 3,
   "metadata": {},
   "outputs": [],
   "source": [
    "import pandas as pd\n",
    "import numpy as np\n",
    "import datetime\n",
    "from itertools import combinations\n",
    "\n",
    "from sklearn.linear_model import LogisticRegressionCV, SGDClassifier\n",
    "from sklearn.metrics import roc_auc_score\n",
    "from sklearn.preprocessing import KBinsDiscretizer, StandardScaler\n",
    "from sklearn.pipeline import make_pipeline"
   ]
  },
  {
   "cell_type": "code",
   "execution_count": 4,
   "metadata": {},
   "outputs": [],
   "source": [
    "%matplotlib inline\n",
    "import matplotlib.pyplot as plt"
   ]
  },
  {
   "cell_type": "code",
   "execution_count": 46,
   "metadata": {},
   "outputs": [
    {
     "name": "stdout",
     "output_type": "stream",
     "text": [
      "The watermark extension is already loaded. To reload it, use:\n",
      "  %reload_ext watermark\n",
      "numpy      1.15.4\n",
      "pandas     0.24.2\n",
      "matplotlib 3.0.3\n",
      "sklearn 0.20.1\n"
     ]
    }
   ],
   "source": [
    "%load_ext watermark\n",
    "%watermark -iv -psklearn"
   ]
  },
  {
   "cell_type": "markdown",
   "metadata": {},
   "source": [
    "## Data load and clean"
   ]
  },
  {
   "cell_type": "code",
   "execution_count": 5,
   "metadata": {},
   "outputs": [
    {
     "data": {
      "text/plain": [
       "(100000, 8)"
      ]
     },
     "execution_count": 5,
     "metadata": {},
     "output_type": "execute_result"
    }
   ],
   "source": [
    "train = pd.read_csv('../data/train_sample.csv', parse_dates=['click_time', 'attributed_time'])\n",
    "train.shape"
   ]
  },
  {
   "cell_type": "code",
   "execution_count": 6,
   "metadata": {},
   "outputs": [
    {
     "data": {
      "text/html": [
       "<div>\n",
       "<style scoped>\n",
       "    .dataframe tbody tr th:only-of-type {\n",
       "        vertical-align: middle;\n",
       "    }\n",
       "\n",
       "    .dataframe tbody tr th {\n",
       "        vertical-align: top;\n",
       "    }\n",
       "\n",
       "    .dataframe thead th {\n",
       "        text-align: right;\n",
       "    }\n",
       "</style>\n",
       "<table border=\"1\" class=\"dataframe\">\n",
       "  <thead>\n",
       "    <tr style=\"text-align: right;\">\n",
       "      <th></th>\n",
       "      <th>ip</th>\n",
       "      <th>app</th>\n",
       "      <th>device</th>\n",
       "      <th>os</th>\n",
       "      <th>channel</th>\n",
       "      <th>click_time</th>\n",
       "      <th>attributed_time</th>\n",
       "      <th>is_attributed</th>\n",
       "    </tr>\n",
       "  </thead>\n",
       "  <tbody>\n",
       "    <tr>\n",
       "      <th>0</th>\n",
       "      <td>87540</td>\n",
       "      <td>12</td>\n",
       "      <td>1</td>\n",
       "      <td>13</td>\n",
       "      <td>497</td>\n",
       "      <td>2017-11-07 09:30:38</td>\n",
       "      <td>NaT</td>\n",
       "      <td>0</td>\n",
       "    </tr>\n",
       "    <tr>\n",
       "      <th>1</th>\n",
       "      <td>105560</td>\n",
       "      <td>25</td>\n",
       "      <td>1</td>\n",
       "      <td>17</td>\n",
       "      <td>259</td>\n",
       "      <td>2017-11-07 13:40:27</td>\n",
       "      <td>NaT</td>\n",
       "      <td>0</td>\n",
       "    </tr>\n",
       "    <tr>\n",
       "      <th>2</th>\n",
       "      <td>101424</td>\n",
       "      <td>12</td>\n",
       "      <td>1</td>\n",
       "      <td>19</td>\n",
       "      <td>212</td>\n",
       "      <td>2017-11-07 18:05:24</td>\n",
       "      <td>NaT</td>\n",
       "      <td>0</td>\n",
       "    </tr>\n",
       "    <tr>\n",
       "      <th>3</th>\n",
       "      <td>94584</td>\n",
       "      <td>13</td>\n",
       "      <td>1</td>\n",
       "      <td>13</td>\n",
       "      <td>477</td>\n",
       "      <td>2017-11-07 04:58:08</td>\n",
       "      <td>NaT</td>\n",
       "      <td>0</td>\n",
       "    </tr>\n",
       "    <tr>\n",
       "      <th>4</th>\n",
       "      <td>68413</td>\n",
       "      <td>12</td>\n",
       "      <td>1</td>\n",
       "      <td>1</td>\n",
       "      <td>178</td>\n",
       "      <td>2017-11-09 09:00:09</td>\n",
       "      <td>NaT</td>\n",
       "      <td>0</td>\n",
       "    </tr>\n",
       "    <tr>\n",
       "      <th>5</th>\n",
       "      <td>93663</td>\n",
       "      <td>3</td>\n",
       "      <td>1</td>\n",
       "      <td>17</td>\n",
       "      <td>115</td>\n",
       "      <td>2017-11-09 01:22:13</td>\n",
       "      <td>NaT</td>\n",
       "      <td>0</td>\n",
       "    </tr>\n",
       "    <tr>\n",
       "      <th>6</th>\n",
       "      <td>17059</td>\n",
       "      <td>1</td>\n",
       "      <td>1</td>\n",
       "      <td>17</td>\n",
       "      <td>135</td>\n",
       "      <td>2017-11-09 01:17:58</td>\n",
       "      <td>NaT</td>\n",
       "      <td>0</td>\n",
       "    </tr>\n",
       "    <tr>\n",
       "      <th>7</th>\n",
       "      <td>121505</td>\n",
       "      <td>9</td>\n",
       "      <td>1</td>\n",
       "      <td>25</td>\n",
       "      <td>442</td>\n",
       "      <td>2017-11-07 10:01:53</td>\n",
       "      <td>NaT</td>\n",
       "      <td>0</td>\n",
       "    </tr>\n",
       "    <tr>\n",
       "      <th>8</th>\n",
       "      <td>192967</td>\n",
       "      <td>2</td>\n",
       "      <td>2</td>\n",
       "      <td>22</td>\n",
       "      <td>364</td>\n",
       "      <td>2017-11-08 09:35:17</td>\n",
       "      <td>NaT</td>\n",
       "      <td>0</td>\n",
       "    </tr>\n",
       "    <tr>\n",
       "      <th>9</th>\n",
       "      <td>143636</td>\n",
       "      <td>3</td>\n",
       "      <td>1</td>\n",
       "      <td>19</td>\n",
       "      <td>135</td>\n",
       "      <td>2017-11-08 12:35:26</td>\n",
       "      <td>NaT</td>\n",
       "      <td>0</td>\n",
       "    </tr>\n",
       "  </tbody>\n",
       "</table>\n",
       "</div>"
      ],
      "text/plain": [
       "       ip  app  device  os  channel          click_time attributed_time  \\\n",
       "0   87540   12       1  13      497 2017-11-07 09:30:38             NaT   \n",
       "1  105560   25       1  17      259 2017-11-07 13:40:27             NaT   \n",
       "2  101424   12       1  19      212 2017-11-07 18:05:24             NaT   \n",
       "3   94584   13       1  13      477 2017-11-07 04:58:08             NaT   \n",
       "4   68413   12       1   1      178 2017-11-09 09:00:09             NaT   \n",
       "5   93663    3       1  17      115 2017-11-09 01:22:13             NaT   \n",
       "6   17059    1       1  17      135 2017-11-09 01:17:58             NaT   \n",
       "7  121505    9       1  25      442 2017-11-07 10:01:53             NaT   \n",
       "8  192967    2       2  22      364 2017-11-08 09:35:17             NaT   \n",
       "9  143636    3       1  19      135 2017-11-08 12:35:26             NaT   \n",
       "\n",
       "   is_attributed  \n",
       "0              0  \n",
       "1              0  \n",
       "2              0  \n",
       "3              0  \n",
       "4              0  \n",
       "5              0  \n",
       "6              0  \n",
       "7              0  \n",
       "8              0  \n",
       "9              0  "
      ]
     },
     "execution_count": 6,
     "metadata": {},
     "output_type": "execute_result"
    }
   ],
   "source": [
    "train.head(10)"
   ]
  },
  {
   "cell_type": "markdown",
   "metadata": {},
   "source": [
    "The only column that's not basically just an \"id\" is the click_time, so I decided to\n",
    "just bin it. It's a little hacky but: 1) picked bin strategy and number of bins so that\n",
    "plot looked semi-decent. Then I recentered the data so that it looked more like a normal\n",
    "curve. (In the oringal plot, the first bin is large and the last bin is small\n",
    "because the algorithm doesn't know these times are essentially\n",
    "consecutive, just the next day. I decided to move that confused area to the low spot\n",
    "of the graph.)"
   ]
  },
  {
   "cell_type": "code",
   "execution_count": 27,
   "metadata": {},
   "outputs": [
    {
     "data": {
      "text/plain": [
       "<matplotlib.collections.PathCollection at 0x1a2bfe0d68>"
      ]
     },
     "execution_count": 27,
     "metadata": {},
     "output_type": "execute_result"
    },
    {
     "data": {
      "image/png": "[encoded data removed]",
      "text/plain": [
       "<Figure size 432x288 with 1 Axes>"
      ]
     },
     "metadata": {
      "needs_background": "light"
     },
     "output_type": "display_data"
    }
   ],
   "source": [
    "# I just played with the number of bins until it looked sort of smooth-ish\n",
    "# then moved the center until it looked kinda normal-ish\n",
    "\n",
    "train['click_minute'] = train.click_time.map(lambda x : x.hour * 60 + x.minute)\n",
    "\n",
    "hour_bins = KBinsDiscretizer(n_bins=30, encode='ordinal', strategy='kmeans')\n",
    "train['time_bin'] = hour_bins.fit_transform(train.click_minute.values.reshape(-1,1))\n",
    "\n",
    "bin_check = train.time_bin.value_counts()\n",
    "plt.scatter(bin_check.index, bin_check.values)\n"
   ]
  },
  {
   "cell_type": "code",
   "execution_count": 28,
   "metadata": {},
   "outputs": [
    {
     "data": {
      "text/plain": [
       "array([[1225.68204536]])"
      ]
     },
     "execution_count": 28,
     "metadata": {},
     "output_type": "execute_result"
    }
   ],
   "source": [
    "hour_bins.inverse_transform(np.array([25]).reshape(1,-1))"
   ]
  },
  {
   "cell_type": "code",
   "execution_count": 29,
   "metadata": {},
   "outputs": [
    {
     "data": {
      "text/plain": [
       "<matplotlib.collections.PathCollection at 0x1a2be1fb70>"
      ]
     },
     "execution_count": 29,
     "metadata": {},
     "output_type": "execute_result"
    },
    {
     "data": {
      "image/png": "[encoded data removed]",
      "text/plain": [
       "<Figure size 432x288 with 1 Axes>"
      ]
     },
     "metadata": {
      "needs_background": "light"
     },
     "output_type": "display_data"
    }
   ],
   "source": [
    "temp = train.click_minute -  1225\n",
    "one_day = 24*60\n",
    "new = temp.copy()\n",
    "new[temp < 0] += one_day\n",
    "\n",
    "train.click_minute = new\n",
    "hour_bins = KBinsDiscretizer(n_bins=40, encode='ordinal', strategy='kmeans')\n",
    "train['time_bin'] = hour_bins.fit_transform(train.click_minute.values.reshape(-1,1))\n",
    "\n",
    "bin_check = train.time_bin.value_counts()\n",
    "plt.scatter(bin_check.index, bin_check.values)"
   ]
  },
  {
   "cell_type": "code",
   "execution_count": 30,
   "metadata": {},
   "outputs": [
    {
     "data": {
      "text/html": [
       "<div>\n",
       "<style scoped>\n",
       "    .dataframe tbody tr th:only-of-type {\n",
       "        vertical-align: middle;\n",
       "    }\n",
       "\n",
       "    .dataframe tbody tr th {\n",
       "        vertical-align: top;\n",
       "    }\n",
       "\n",
       "    .dataframe thead th {\n",
       "        text-align: right;\n",
       "    }\n",
       "</style>\n",
       "<table border=\"1\" class=\"dataframe\">\n",
       "  <thead>\n",
       "    <tr style=\"text-align: right;\">\n",
       "      <th></th>\n",
       "      <th>ip</th>\n",
       "      <th>app</th>\n",
       "      <th>device</th>\n",
       "      <th>os</th>\n",
       "      <th>channel</th>\n",
       "      <th>click_time</th>\n",
       "      <th>attributed_time</th>\n",
       "      <th>is_attributed</th>\n",
       "      <th>click_minute</th>\n",
       "      <th>time_bin</th>\n",
       "    </tr>\n",
       "  </thead>\n",
       "  <tbody>\n",
       "    <tr>\n",
       "      <th>0</th>\n",
       "      <td>87540</td>\n",
       "      <td>12</td>\n",
       "      <td>1</td>\n",
       "      <td>13</td>\n",
       "      <td>497</td>\n",
       "      <td>2017-11-07 09:30:38</td>\n",
       "      <td>NaT</td>\n",
       "      <td>0</td>\n",
       "      <td>785</td>\n",
       "      <td>21.0</td>\n",
       "    </tr>\n",
       "    <tr>\n",
       "      <th>1</th>\n",
       "      <td>105560</td>\n",
       "      <td>25</td>\n",
       "      <td>1</td>\n",
       "      <td>17</td>\n",
       "      <td>259</td>\n",
       "      <td>2017-11-07 13:40:27</td>\n",
       "      <td>NaT</td>\n",
       "      <td>0</td>\n",
       "      <td>1035</td>\n",
       "      <td>28.0</td>\n",
       "    </tr>\n",
       "    <tr>\n",
       "      <th>2</th>\n",
       "      <td>101424</td>\n",
       "      <td>12</td>\n",
       "      <td>1</td>\n",
       "      <td>19</td>\n",
       "      <td>212</td>\n",
       "      <td>2017-11-07 18:05:24</td>\n",
       "      <td>NaT</td>\n",
       "      <td>0</td>\n",
       "      <td>1300</td>\n",
       "      <td>36.0</td>\n",
       "    </tr>\n",
       "    <tr>\n",
       "      <th>3</th>\n",
       "      <td>94584</td>\n",
       "      <td>13</td>\n",
       "      <td>1</td>\n",
       "      <td>13</td>\n",
       "      <td>477</td>\n",
       "      <td>2017-11-07 04:58:08</td>\n",
       "      <td>NaT</td>\n",
       "      <td>0</td>\n",
       "      <td>513</td>\n",
       "      <td>14.0</td>\n",
       "    </tr>\n",
       "    <tr>\n",
       "      <th>4</th>\n",
       "      <td>68413</td>\n",
       "      <td>12</td>\n",
       "      <td>1</td>\n",
       "      <td>1</td>\n",
       "      <td>178</td>\n",
       "      <td>2017-11-09 09:00:09</td>\n",
       "      <td>NaT</td>\n",
       "      <td>0</td>\n",
       "      <td>755</td>\n",
       "      <td>20.0</td>\n",
       "    </tr>\n",
       "  </tbody>\n",
       "</table>\n",
       "</div>"
      ],
      "text/plain": [
       "       ip  app  device  os  channel          click_time attributed_time  \\\n",
       "0   87540   12       1  13      497 2017-11-07 09:30:38             NaT   \n",
       "1  105560   25       1  17      259 2017-11-07 13:40:27             NaT   \n",
       "2  101424   12       1  19      212 2017-11-07 18:05:24             NaT   \n",
       "3   94584   13       1  13      477 2017-11-07 04:58:08             NaT   \n",
       "4   68413   12       1   1      178 2017-11-09 09:00:09             NaT   \n",
       "\n",
       "   is_attributed  click_minute  time_bin  \n",
       "0              0           785      21.0  \n",
       "1              0          1035      28.0  \n",
       "2              0          1300      36.0  \n",
       "3              0           513      14.0  \n",
       "4              0           755      20.0  "
      ]
     },
     "execution_count": 30,
     "metadata": {},
     "output_type": "execute_result"
    }
   ],
   "source": [
    "train.head()"
   ]
  },
  {
   "cell_type": "markdown",
   "metadata": {},
   "source": [
    "## Feature engineering"
   ]
  },
  {
   "cell_type": "markdown",
   "metadata": {},
   "source": [
    "Following Sonia's observation that the terms interact, but going brute force and trying \n",
    "every possible pair of features."
   ]
  },
  {
   "cell_type": "code",
   "execution_count": 31,
   "metadata": {},
   "outputs": [],
   "source": [
    "unigrams = ['ip', 'app', 'device', 'os', 'channel', 'time_bin']\n",
    "bigrams = combinations(unigrams, 2)\n",
    "\n",
    "cols = []\n",
    "\n",
    "df_big = pd.DataFrame()\n",
    "for c1,c2 in bigrams:\n",
    "    col = '_'.join([c1,c2])\n",
    "    cols += [col]\n",
    "    df_big[col] = train[c1].combine(train[c2], lambda x,y:(x,y))\n",
    "    "
   ]
  },
  {
   "cell_type": "code",
   "execution_count": 32,
   "metadata": {},
   "outputs": [
    {
     "data": {
      "text/html": [
       "<div>\n",
       "<style scoped>\n",
       "    .dataframe tbody tr th:only-of-type {\n",
       "        vertical-align: middle;\n",
       "    }\n",
       "\n",
       "    .dataframe tbody tr th {\n",
       "        vertical-align: top;\n",
       "    }\n",
       "\n",
       "    .dataframe thead th {\n",
       "        text-align: right;\n",
       "    }\n",
       "</style>\n",
       "<table border=\"1\" class=\"dataframe\">\n",
       "  <thead>\n",
       "    <tr style=\"text-align: right;\">\n",
       "      <th></th>\n",
       "      <th>ip_app</th>\n",
       "      <th>ip_device</th>\n",
       "      <th>ip_os</th>\n",
       "      <th>ip_channel</th>\n",
       "      <th>ip_time_bin</th>\n",
       "      <th>app_device</th>\n",
       "      <th>app_os</th>\n",
       "      <th>app_channel</th>\n",
       "      <th>app_time_bin</th>\n",
       "      <th>device_os</th>\n",
       "      <th>device_channel</th>\n",
       "      <th>device_time_bin</th>\n",
       "      <th>os_channel</th>\n",
       "      <th>os_time_bin</th>\n",
       "      <th>channel_time_bin</th>\n",
       "    </tr>\n",
       "  </thead>\n",
       "  <tbody>\n",
       "    <tr>\n",
       "      <th>0</th>\n",
       "      <td>(87540, 12)</td>\n",
       "      <td>(87540, 1)</td>\n",
       "      <td>(87540, 13)</td>\n",
       "      <td>(87540, 497)</td>\n",
       "      <td>(87540, 21.0)</td>\n",
       "      <td>(12, 1)</td>\n",
       "      <td>(12, 13)</td>\n",
       "      <td>(12, 497)</td>\n",
       "      <td>(12, 21.0)</td>\n",
       "      <td>(1, 13)</td>\n",
       "      <td>(1, 497)</td>\n",
       "      <td>(1, 21.0)</td>\n",
       "      <td>(13, 497)</td>\n",
       "      <td>(13, 21.0)</td>\n",
       "      <td>(497, 21.0)</td>\n",
       "    </tr>\n",
       "    <tr>\n",
       "      <th>1</th>\n",
       "      <td>(105560, 25)</td>\n",
       "      <td>(105560, 1)</td>\n",
       "      <td>(105560, 17)</td>\n",
       "      <td>(105560, 259)</td>\n",
       "      <td>(105560, 28.0)</td>\n",
       "      <td>(25, 1)</td>\n",
       "      <td>(25, 17)</td>\n",
       "      <td>(25, 259)</td>\n",
       "      <td>(25, 28.0)</td>\n",
       "      <td>(1, 17)</td>\n",
       "      <td>(1, 259)</td>\n",
       "      <td>(1, 28.0)</td>\n",
       "      <td>(17, 259)</td>\n",
       "      <td>(17, 28.0)</td>\n",
       "      <td>(259, 28.0)</td>\n",
       "    </tr>\n",
       "    <tr>\n",
       "      <th>2</th>\n",
       "      <td>(101424, 12)</td>\n",
       "      <td>(101424, 1)</td>\n",
       "      <td>(101424, 19)</td>\n",
       "      <td>(101424, 212)</td>\n",
       "      <td>(101424, 36.0)</td>\n",
       "      <td>(12, 1)</td>\n",
       "      <td>(12, 19)</td>\n",
       "      <td>(12, 212)</td>\n",
       "      <td>(12, 36.0)</td>\n",
       "      <td>(1, 19)</td>\n",
       "      <td>(1, 212)</td>\n",
       "      <td>(1, 36.0)</td>\n",
       "      <td>(19, 212)</td>\n",
       "      <td>(19, 36.0)</td>\n",
       "      <td>(212, 36.0)</td>\n",
       "    </tr>\n",
       "    <tr>\n",
       "      <th>3</th>\n",
       "      <td>(94584, 13)</td>\n",
       "      <td>(94584, 1)</td>\n",
       "      <td>(94584, 13)</td>\n",
       "      <td>(94584, 477)</td>\n",
       "      <td>(94584, 14.0)</td>\n",
       "      <td>(13, 1)</td>\n",
       "      <td>(13, 13)</td>\n",
       "      <td>(13, 477)</td>\n",
       "      <td>(13, 14.0)</td>\n",
       "      <td>(1, 13)</td>\n",
       "      <td>(1, 477)</td>\n",
       "      <td>(1, 14.0)</td>\n",
       "      <td>(13, 477)</td>\n",
       "      <td>(13, 14.0)</td>\n",
       "      <td>(477, 14.0)</td>\n",
       "    </tr>\n",
       "    <tr>\n",
       "      <th>4</th>\n",
       "      <td>(68413, 12)</td>\n",
       "      <td>(68413, 1)</td>\n",
       "      <td>(68413, 1)</td>\n",
       "      <td>(68413, 178)</td>\n",
       "      <td>(68413, 20.0)</td>\n",
       "      <td>(12, 1)</td>\n",
       "      <td>(12, 1)</td>\n",
       "      <td>(12, 178)</td>\n",
       "      <td>(12, 20.0)</td>\n",
       "      <td>(1, 1)</td>\n",
       "      <td>(1, 178)</td>\n",
       "      <td>(1, 20.0)</td>\n",
       "      <td>(1, 178)</td>\n",
       "      <td>(1, 20.0)</td>\n",
       "      <td>(178, 20.0)</td>\n",
       "    </tr>\n",
       "  </tbody>\n",
       "</table>\n",
       "</div>"
      ],
      "text/plain": [
       "         ip_app    ip_device         ip_os     ip_channel     ip_time_bin  \\\n",
       "0   (87540, 12)   (87540, 1)   (87540, 13)   (87540, 497)   (87540, 21.0)   \n",
       "1  (105560, 25)  (105560, 1)  (105560, 17)  (105560, 259)  (105560, 28.0)   \n",
       "2  (101424, 12)  (101424, 1)  (101424, 19)  (101424, 212)  (101424, 36.0)   \n",
       "3   (94584, 13)   (94584, 1)   (94584, 13)   (94584, 477)   (94584, 14.0)   \n",
       "4   (68413, 12)   (68413, 1)    (68413, 1)   (68413, 178)   (68413, 20.0)   \n",
       "\n",
       "  app_device    app_os app_channel app_time_bin device_os device_channel  \\\n",
       "0    (12, 1)  (12, 13)   (12, 497)   (12, 21.0)   (1, 13)       (1, 497)   \n",
       "1    (25, 1)  (25, 17)   (25, 259)   (25, 28.0)   (1, 17)       (1, 259)   \n",
       "2    (12, 1)  (12, 19)   (12, 212)   (12, 36.0)   (1, 19)       (1, 212)   \n",
       "3    (13, 1)  (13, 13)   (13, 477)   (13, 14.0)   (1, 13)       (1, 477)   \n",
       "4    (12, 1)   (12, 1)   (12, 178)   (12, 20.0)    (1, 1)       (1, 178)   \n",
       "\n",
       "  device_time_bin os_channel os_time_bin channel_time_bin  \n",
       "0       (1, 21.0)  (13, 497)  (13, 21.0)      (497, 21.0)  \n",
       "1       (1, 28.0)  (17, 259)  (17, 28.0)      (259, 28.0)  \n",
       "2       (1, 36.0)  (19, 212)  (19, 36.0)      (212, 36.0)  \n",
       "3       (1, 14.0)  (13, 477)  (13, 14.0)      (477, 14.0)  \n",
       "4       (1, 20.0)   (1, 178)   (1, 20.0)      (178, 20.0)  "
      ]
     },
     "execution_count": 32,
     "metadata": {},
     "output_type": "execute_result"
    }
   ],
   "source": [
    "df_big.head()"
   ]
  },
  {
   "cell_type": "markdown",
   "metadata": {},
   "source": [
    "## Computing TF-IDF values"
   ]
  },
  {
   "cell_type": "markdown",
   "metadata": {},
   "source": [
    "Following Leila's suggestion to try Naive Bayes: I'm going to need to do some sort of way to do \"word\" counts\n",
    "of each bigram. Using the basic formula for the IDF part of TF-IDF since each pair only arrives once per row."
   ]
  },
  {
   "cell_type": "code",
   "execution_count": 33,
   "metadata": {},
   "outputs": [],
   "source": [
    "val_counts = {}\n",
    "for col in cols:\n",
    "    val_counts[col] = df_big[col].value_counts()\n",
    "\n",
    "tf_idf = pd.DataFrame(index=df_big.index, columns=cols)\n",
    "\n",
    "N = tf_idf.shape[0]\n",
    "\n",
    "def tfidf_mapper(val, col):\n",
    "    global val_counts, N\n",
    "    val_count = val_counts[col][val]\n",
    "    return  np.log( np.float(N)/np.float(val_count+1))\n",
    "    \n",
    "for col in cols:\n",
    "    tf_idf[col] = df_big[col].apply(tfidf_mapper, args=(col,))"
   ]
  },
  {
   "cell_type": "code",
   "execution_count": 34,
   "metadata": {},
   "outputs": [
    {
     "data": {
      "text/html": [
       "<div>\n",
       "<style scoped>\n",
       "    .dataframe tbody tr th:only-of-type {\n",
       "        vertical-align: middle;\n",
       "    }\n",
       "\n",
       "    .dataframe tbody tr th {\n",
       "        vertical-align: top;\n",
       "    }\n",
       "\n",
       "    .dataframe thead th {\n",
       "        text-align: right;\n",
       "    }\n",
       "</style>\n",
       "<table border=\"1\" class=\"dataframe\">\n",
       "  <thead>\n",
       "    <tr style=\"text-align: right;\">\n",
       "      <th></th>\n",
       "      <th>ip_app</th>\n",
       "      <th>ip_device</th>\n",
       "      <th>ip_os</th>\n",
       "      <th>ip_channel</th>\n",
       "      <th>ip_time_bin</th>\n",
       "      <th>app_device</th>\n",
       "      <th>app_os</th>\n",
       "      <th>app_channel</th>\n",
       "      <th>app_time_bin</th>\n",
       "      <th>device_os</th>\n",
       "      <th>device_channel</th>\n",
       "      <th>device_time_bin</th>\n",
       "      <th>os_channel</th>\n",
       "      <th>os_time_bin</th>\n",
       "      <th>channel_time_bin</th>\n",
       "    </tr>\n",
       "  </thead>\n",
       "  <tbody>\n",
       "    <tr>\n",
       "      <th>0</th>\n",
       "      <td>10.126631</td>\n",
       "      <td>9.315701</td>\n",
       "      <td>10.126631</td>\n",
       "      <td>10.819778</td>\n",
       "      <td>10.819778</td>\n",
       "      <td>2.083610</td>\n",
       "      <td>3.534957</td>\n",
       "      <td>6.036462</td>\n",
       "      <td>5.451469</td>\n",
       "      <td>1.589341</td>\n",
       "      <td>6.040655</td>\n",
       "      <td>3.609699</td>\n",
       "      <td>7.487574</td>\n",
       "      <td>5.119335</td>\n",
       "      <td>9.210340</td>\n",
       "    </tr>\n",
       "    <tr>\n",
       "      <th>1</th>\n",
       "      <td>9.903488</td>\n",
       "      <td>6.557098</td>\n",
       "      <td>9.315701</td>\n",
       "      <td>9.433484</td>\n",
       "      <td>9.567015</td>\n",
       "      <td>4.887533</td>\n",
       "      <td>7.902008</td>\n",
       "      <td>4.822083</td>\n",
       "      <td>7.875339</td>\n",
       "      <td>3.000142</td>\n",
       "      <td>3.582000</td>\n",
       "      <td>3.469583</td>\n",
       "      <td>6.400938</td>\n",
       "      <td>6.170591</td>\n",
       "      <td>6.812445</td>\n",
       "    </tr>\n",
       "    <tr>\n",
       "      <th>2</th>\n",
       "      <td>10.819778</td>\n",
       "      <td>10.414313</td>\n",
       "      <td>10.414313</td>\n",
       "      <td>10.819778</td>\n",
       "      <td>10.819778</td>\n",
       "      <td>2.083610</td>\n",
       "      <td>3.468299</td>\n",
       "      <td>6.600271</td>\n",
       "      <td>6.475973</td>\n",
       "      <td>1.454959</td>\n",
       "      <td>5.060877</td>\n",
       "      <td>4.714985</td>\n",
       "      <td>6.543112</td>\n",
       "      <td>6.061887</td>\n",
       "      <td>9.210340</td>\n",
       "    </tr>\n",
       "    <tr>\n",
       "      <th>3</th>\n",
       "      <td>10.819778</td>\n",
       "      <td>10.126631</td>\n",
       "      <td>10.819778</td>\n",
       "      <td>10.819778</td>\n",
       "      <td>10.819778</td>\n",
       "      <td>3.748205</td>\n",
       "      <td>5.288367</td>\n",
       "      <td>4.117818</td>\n",
       "      <td>6.991137</td>\n",
       "      <td>1.589341</td>\n",
       "      <td>3.247533</td>\n",
       "      <td>3.421604</td>\n",
       "      <td>4.828314</td>\n",
       "      <td>4.908982</td>\n",
       "      <td>6.388961</td>\n",
       "    </tr>\n",
       "    <tr>\n",
       "      <th>4</th>\n",
       "      <td>10.414313</td>\n",
       "      <td>9.903488</td>\n",
       "      <td>10.819778</td>\n",
       "      <td>10.819778</td>\n",
       "      <td>10.819778</td>\n",
       "      <td>2.083610</td>\n",
       "      <td>6.692644</td>\n",
       "      <td>3.646203</td>\n",
       "      <td>5.615772</td>\n",
       "      <td>4.453308</td>\n",
       "      <td>3.618607</td>\n",
       "      <td>3.669469</td>\n",
       "      <td>8.078938</td>\n",
       "      <td>8.111728</td>\n",
       "      <td>7.082109</td>\n",
       "    </tr>\n",
       "  </tbody>\n",
       "</table>\n",
       "</div>"
      ],
      "text/plain": [
       "      ip_app  ip_device      ip_os  ip_channel  ip_time_bin  app_device  \\\n",
       "0  10.126631   9.315701  10.126631   10.819778    10.819778    2.083610   \n",
       "1   9.903488   6.557098   9.315701    9.433484     9.567015    4.887533   \n",
       "2  10.819778  10.414313  10.414313   10.819778    10.819778    2.083610   \n",
       "3  10.819778  10.126631  10.819778   10.819778    10.819778    3.748205   \n",
       "4  10.414313   9.903488  10.819778   10.819778    10.819778    2.083610   \n",
       "\n",
       "     app_os  app_channel  app_time_bin  device_os  device_channel  \\\n",
       "0  3.534957     6.036462      5.451469   1.589341        6.040655   \n",
       "1  7.902008     4.822083      7.875339   3.000142        3.582000   \n",
       "2  3.468299     6.600271      6.475973   1.454959        5.060877   \n",
       "3  5.288367     4.117818      6.991137   1.589341        3.247533   \n",
       "4  6.692644     3.646203      5.615772   4.453308        3.618607   \n",
       "\n",
       "   device_time_bin  os_channel  os_time_bin  channel_time_bin  \n",
       "0         3.609699    7.487574     5.119335          9.210340  \n",
       "1         3.469583    6.400938     6.170591          6.812445  \n",
       "2         4.714985    6.543112     6.061887          9.210340  \n",
       "3         3.421604    4.828314     4.908982          6.388961  \n",
       "4         3.669469    8.078938     8.111728          7.082109  "
      ]
     },
     "execution_count": 34,
     "metadata": {},
     "output_type": "execute_result"
    }
   ],
   "source": [
    "tf_idf.head()"
   ]
  },
  {
   "cell_type": "markdown",
   "metadata": {},
   "source": [
    "## Resampling"
   ]
  },
  {
   "cell_type": "markdown",
   "metadata": {},
   "source": [
    "We have massively imbalanced learning problem. To rebalance, I'm downsampling class 0 massively and\n",
    "upsampling class 1."
   ]
  },
  {
   "cell_type": "code",
   "execution_count": 35,
   "metadata": {},
   "outputs": [
    {
     "data": {
      "text/plain": [
       "0    2494\n",
       "1    2270\n",
       "Name: y, dtype: int64"
      ]
     },
     "execution_count": 35,
     "metadata": {},
     "output_type": "execute_result"
    }
   ],
   "source": [
    "y = train.is_attributed\n",
    "tf_idf['y'] = y \n",
    "\n",
    "# downsample 0, upsample 1 - will improve later\n",
    "\n",
    "class0 = tf_idf.loc[y == 0, :]\n",
    "class1 = tf_idf.loc[y == 1, :]\n",
    "\n",
    "class0 = class0.sample(frac=.025)\n",
    "class1 = class1.sample(frac=10., replace=True)\n",
    "\n",
    "subsample = pd.concat([class0, class1])\n",
    "\n",
    "X = subsample.drop(columns='y')\n",
    "y = subsample.y\n",
    "\n",
    "y.value_counts()"
   ]
  },
  {
   "cell_type": "markdown",
   "metadata": {},
   "source": [
    "## Naive Bayes"
   ]
  },
  {
   "cell_type": "markdown",
   "metadata": {},
   "source": [
    "Now ready to do NaiveBayes:"
   ]
  },
  {
   "cell_type": "code",
   "execution_count": 36,
   "metadata": {},
   "outputs": [
    {
     "data": {
      "text/plain": [
       "0.894271538034896"
      ]
     },
     "execution_count": 36,
     "metadata": {},
     "output_type": "execute_result"
    }
   ],
   "source": [
    "from sklearn.naive_bayes import MultinomialNB\n",
    "clf = MultinomialNB()\n",
    "clf.fit(X,y)\n",
    "yhat = clf.predict(X)\n",
    "roc_auc_score(y, yhat)"
   ]
  },
  {
   "cell_type": "code",
   "execution_count": 37,
   "metadata": {},
   "outputs": [
    {
     "data": {
      "text/plain": [
       "0.8926525989326166"
      ]
     },
     "execution_count": 37,
     "metadata": {},
     "output_type": "execute_result"
    }
   ],
   "source": [
    "# Try the 97 % of class 0 that we threw out above\n",
    "X_train = tf_idf.drop(columns='y')\n",
    "y_train = tf_idf.y\n",
    "yhat = clf.predict(X_train)\n",
    "roc_auc_score(y_train, yhat)"
   ]
  },
  {
   "cell_type": "markdown",
   "metadata": {},
   "source": [
    "## A bunch of other random models\n",
    "(One advantage of throwing away 98% of the data is that it's really fast to train other models...)"
   ]
  },
  {
   "cell_type": "markdown",
   "metadata": {},
   "source": [
    "### Logistic Regression"
   ]
  },
  {
   "cell_type": "code",
   "execution_count": 38,
   "metadata": {},
   "outputs": [
    {
     "name": "stderr",
     "output_type": "stream",
     "text": [
      "[Parallel(n_jobs=-1)]: Using backend LokyBackend with 8 concurrent workers.\n",
      "[Parallel(n_jobs=-1)]: Done   4 out of   4 | elapsed:    1.4s remaining:    0.0s\n",
      "[Parallel(n_jobs=-1)]: Done   4 out of   4 | elapsed:    1.4s finished\n"
     ]
    },
    {
     "data": {
      "text/plain": [
       "Pipeline(memory=None,\n",
       "     steps=[('standardscaler', StandardScaler(copy=True, with_mean=True, with_std=True)), ('logisticregressioncv', LogisticRegressionCV(Cs=10, class_weight=None, cv=4, dual=False,\n",
       "           fit_intercept=True, intercept_scaling=1.0, max_iter=300,\n",
       "           multi_class='warn', n_jobs=-1, penalty='l2', random_state=None,\n",
       "           refit=True, scoring='roc_auc', solver='lbfgs', tol=0.0001,\n",
       "           verbose=1))])"
      ]
     },
     "execution_count": 38,
     "metadata": {},
     "output_type": "execute_result"
    }
   ],
   "source": [
    "pipe = make_pipeline(\n",
    "    StandardScaler(),\n",
    "    LogisticRegressionCV(cv=4, \n",
    "                         scoring='roc_auc', \n",
    "                         verbose=1, \n",
    "                         n_jobs=-1, \n",
    "                         max_iter=300, \n",
    "                         fit_intercept=True)\n",
    ")\n",
    "pipe.fit(X, y)"
   ]
  },
  {
   "cell_type": "code",
   "execution_count": 39,
   "metadata": {},
   "outputs": [
    {
     "data": {
      "text/plain": [
       "0.9155990235596267"
      ]
     },
     "execution_count": 39,
     "metadata": {},
     "output_type": "execute_result"
    }
   ],
   "source": [
    "yhat = pipe.predict(X)\n",
    "roc_auc_score(y, yhat)"
   ]
  },
  {
   "cell_type": "code",
   "execution_count": 40,
   "metadata": {},
   "outputs": [
    {
     "data": {
      "text/plain": [
       "0.9155047596811282"
      ]
     },
     "execution_count": 40,
     "metadata": {},
     "output_type": "execute_result"
    }
   ],
   "source": [
    "yhat = pipe.predict(X_train)\n",
    "roc_auc_score(y_train, yhat)"
   ]
  },
  {
   "cell_type": "markdown",
   "metadata": {},
   "source": [
    "### Stochastic Gradient Descent\n"
   ]
  },
  {
   "cell_type": "code",
   "execution_count": 41,
   "metadata": {},
   "outputs": [
    {
     "name": "stdout",
     "output_type": "stream",
     "text": [
      "Subset AUC 0.9203261395631454\n",
      "Full AUC 0.9163543313806923\n"
     ]
    }
   ],
   "source": [
    "pipe = make_pipeline(\n",
    "    StandardScaler(),\n",
    "    SGDClassifier(max_iter=1000, tol=1e-3)\n",
    ")\n",
    "pipe.fit(X,y)\n",
    "yhat = pipe.predict(X)\n",
    "print('Subset AUC', roc_auc_score(y, yhat))\n",
    "yhat = pipe.predict(X_train)\n",
    "roc_auc_score(y_train, yhat)\n",
    "print('Full AUC', roc_auc_score(y_train, yhat))"
   ]
  },
  {
   "cell_type": "markdown",
   "metadata": {},
   "source": [
    "### Neural Network "
   ]
  },
  {
   "cell_type": "code",
   "execution_count": 42,
   "metadata": {},
   "outputs": [
    {
     "name": "stdout",
     "output_type": "stream",
     "text": [
      "Subset AUC 0.9973937449879711\n",
      "Full AUC 0.9873863670532108\n"
     ]
    }
   ],
   "source": [
    "from sklearn.neural_network import MLPClassifier\n",
    "pipe = make_pipeline(\n",
    "    StandardScaler(),\n",
    "    MLPClassifier(hidden_layer_sizes=(20,20,20), validation_fraction=.2, max_iter=1000)\n",
    ")\n",
    "pipe.fit(X,y)\n",
    "yhat = pipe.predict(X)\n",
    "print('Subset AUC', roc_auc_score(y, yhat))\n",
    "yhat = pipe.predict(X_train)\n",
    "roc_auc_score(y_train, yhat)\n",
    "print('Full AUC', roc_auc_score(y_train, yhat))"
   ]
  },
  {
   "cell_type": "markdown",
   "metadata": {},
   "source": [
    "### Gradient Boosting"
   ]
  },
  {
   "cell_type": "code",
   "execution_count": 43,
   "metadata": {},
   "outputs": [
    {
     "name": "stdout",
     "output_type": "stream",
     "text": [
      "Subset AUC 0.9881742613991642\n",
      "Full AUC 0.982414795241586\n"
     ]
    }
   ],
   "source": [
    "from sklearn.ensemble import GradientBoostingClassifier\n",
    "pipe = make_pipeline(\n",
    "    StandardScaler(),\n",
    "    GradientBoostingClassifier()\n",
    ")\n",
    "pipe.fit(X,y)\n",
    "yhat = pipe.predict(X)\n",
    "print('Subset AUC', roc_auc_score(y, yhat))\n",
    "yhat = pipe.predict(X_train)\n",
    "roc_auc_score(y_train, yhat)\n",
    "print('Full AUC', roc_auc_score(y_train, yhat))"
   ]
  },
  {
   "cell_type": "markdown",
   "metadata": {},
   "source": [
    "# Possible places to go after MVP:\n",
    "- Train on full (resampled) train set and upload test set to kaggle and see what that score is\n",
    "- Actually look for relevant bigrams (up to n-grams?) and do feature selection to improve the inputs\n",
    "- Use cross validation and grid search to tune the various models\n",
    "- Use a \"better\" library for neural network and boosting (e.g. Tensorflow, SparkML, XGBoost, etc.)"
   ]
  },
  {
   "cell_type": "code",
   "execution_count": null,
   "metadata": {},
   "outputs": [],
   "source": []
  }
 ],
 "metadata": {
  "kernelspec": {
   "display_name": "Python 3",
   "language": "python",
   "name": "python3"
  },
  "language_info": {
   "codemirror_mode": {
    "name": "ipython",
    "version": 3
   },
   "file_extension": ".py",
   "mimetype": "text/x-python",
   "name": "python",
   "nbconvert_exporter": "python",
   "pygments_lexer": "ipython3",
   "version": "3.6.8"
  }
 },
 "nbformat": 4,
 "nbformat_minor": 2
}
